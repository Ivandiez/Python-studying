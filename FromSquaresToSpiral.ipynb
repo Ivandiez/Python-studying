{
 "cells": [
  {
   "cell_type": "code",
   "execution_count": 2,
   "metadata": {},
   "outputs": [
    {
     "name": "stdout",
     "output_type": "stream",
     "text": [
      "5\n",
      "1 2 3 4 5 \n",
      "16 17 18 19 6 \n",
      "15 24 25 20 7 \n",
      "14 23 22 21 8 \n",
      "13 12 11 10 9 \n"
     ]
    }
   ],
   "source": [
    "def spiral(n):\n",
    "    dx,dy = 1,0 # смещение по x и y          \n",
    "    x,y = 0,0  # значения x и y           \n",
    "    myarray = [[None]* n for j in range(n)] # массив, заполненный None\n",
    "    for i in range(1,n**2+1): # заполняем массив\n",
    "        myarray[x][y] = i \n",
    "        nx,ny = x+dx, y+dy # задаем значения промежуточным переменным (x+dx, y+dy)\n",
    "        if 0<=nx<n and 0<=ny<n and myarray[nx][ny] == None: # проверка на то, что точка находится в пределах матрицы\n",
    "                                                            # и на месте следующей позиции стоит None\n",
    "            x,y = nx,ny  # присваиваем x и y значения след. позиции\n",
    "        else:\n",
    "            dx,dy = -dy,dx # меняем направление обхода квадрата\n",
    "            x,y = x+dx, y+dy # увеличиваем значения x и y на смещения\n",
    "    return myarray\n",
    " \n",
    "# выводим матрицу\n",
    "def printspiral(myarray):\n",
    "    n = range(len(myarray))\n",
    "    for y in n:\n",
    "        for x in n:\n",
    "            print (myarray[x][y],end=' ')\n",
    "        print()\n",
    "\n",
    "n = int(input())\n",
    "printspiral(spiral(n))"
   ]
  },
  {
   "cell_type": "code",
   "execution_count": 3,
   "metadata": {},
   "outputs": [
    {
     "name": "stdout",
     "output_type": "stream",
     "text": [
      "5\n",
      "1 2 3 4 5 \n",
      "16 17 18 19 6 \n",
      "15 24 25 20 7 \n",
      "14 23 22 21 8 \n",
      "13 12 11 10 9 \n"
     ]
    }
   ],
   "source": [
    "n = int(input())\n",
    "a = [[0 for i in range(n)] for j in range(n)]  #создаю матрицу n*n и заполняю нулями\n",
    "k = 1 # заполняю матрицу числом к увеличивая его на 1 после заполнения каждого элемента\n",
    "m = 0 # счётчик итераций спирали, увеличиваю на 1 на каждом витке спирали\n",
    "while k <= n*n: # внешний цикл с 4 вложенными циклами пока k не заполнит всю матрицу n*n\n",
    "    for i in range(m, n-m): # цикл заполняет верхнюю сторону спирали - на каждой итерации сужаем границы цикла на m с каждой стороны\n",
    "        a[m][i]= k\n",
    "        k += 1\n",
    "    for i in range(m+1, n-m): # цикл заполняет правую сторону спирали, границы зависят от m\n",
    "        a[i][n-m-1]= k\n",
    "        k += 1\n",
    "    for i in range(n-m-2, m-1, -1): # заполняю нижнюю сторону спирали - зависит от m\n",
    "        a[n-m-1][i] = k\n",
    "        k += 1\n",
    "    for i in range(n-2-m,m, -1): # цикл заполняет левую сторону спирали - зависит от m\n",
    "        a[i][m] = k\n",
    "        k += 1\n",
    "    m += 1\n",
    "for i in range(n): # вывод на печать каждого элемента матрицы\n",
    "    for j in range(n):\n",
    "        print(a[i][j], end =' ')\n",
    "    print()"
   ]
  },
  {
   "cell_type": "code",
   "execution_count": null,
   "metadata": {},
   "outputs": [],
   "source": []
  }
 ],
 "metadata": {
  "kernelspec": {
   "display_name": "Python 3",
   "language": "python",
   "name": "python3"
  },
  "language_info": {
   "codemirror_mode": {
    "name": "ipython",
    "version": 3
   },
   "file_extension": ".py",
   "mimetype": "text/x-python",
   "name": "python",
   "nbconvert_exporter": "python",
   "pygments_lexer": "ipython3",
   "version": "3.7.5"
  }
 },
 "nbformat": 4,
 "nbformat_minor": 2
}
