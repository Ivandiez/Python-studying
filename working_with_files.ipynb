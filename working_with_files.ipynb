{
 "cells": [
  {
   "cell_type": "code",
   "execution_count": null,
   "metadata": {},
   "outputs": [],
   "source": [
    "# Encode multiple symbols in line to number of this symbols\n",
    "s,n = 0,input()+' '\n",
    "for i in n:\n",
    "    if n[0] != i:\n",
    "        print(n[0],s,end='',sep='')\n",
    "        s,n = 0,i\n",
    "    s += 1"
   ]
  },
  {
   "cell_type": "code",
   "execution_count": 17,
   "metadata": {},
   "outputs": [
    {
     "name": "stdout",
     "output_type": "stream",
     "text": [
      "BBBBBBBBBBBBBBKKKSSSSSSSShhhhhhhhhhhhhuuuuuuuuLLLLLLLLLLLppppppppppRRRRRRRRRRRRRRRRRttttttttttttGGGGGGGGGGGGGGGVVVVVVVVVVGGGGGGGGGGGGGGGGGbbbbbboooooooXXXXXjjjjjjjjjjjjjjjjjjjjJJJJJJJJJaaaaaaaaaaaaaXXXXXXXXXXXXXXXEEEEEEEEEEfffffffffffffffffHHHHHHHHHHHHHHHHHHhhhhhhhhh"
     ]
    }
   ],
   "source": [
    "# Decode text from file\n",
    "# dataset_3363_2.txt = \"B14K3S8h13u8L11p10R17t12G15V10G17b6o7X5j20J9a13X15E10f17H18h9\"\n",
    "with open('dataset_3363_2.txt', 'r') as f:\n",
    "    s = f.readline().strip() # считываем все строки из файла в переменную s\n",
    "i = 0\n",
    "while i < len(s): \n",
    "    j = i + 1 # первый символ - всегда буква, поэтому создаем переменную под счетчик цифр\n",
    "    while j < len(s) and s[j].isdigit(): # проверяем, не выходит ли цифры за границы строки и явл. ли числом?\n",
    "        j += 1 # если да, то добавляем к счетчику 1\n",
    "    print(s[i] * int(s[i+1:j]), end='') # выводим букву, повторенную s[j] раз.\n",
    "    i = j # присваиваем переменной i значение счетчика j, чтобы начать со следующей буквы."
   ]
  }
 ],
 "metadata": {
  "kernelspec": {
   "display_name": "Python 3",
   "language": "python",
   "name": "python3"
  },
  "language_info": {
   "codemirror_mode": {
    "name": "ipython",
    "version": 3
   },
   "file_extension": ".py",
   "mimetype": "text/x-python",
   "name": "python",
   "nbconvert_exporter": "python",
   "pygments_lexer": "ipython3",
   "version": "3.7.5"
  }
 },
 "nbformat": 4,
 "nbformat_minor": 2
}
