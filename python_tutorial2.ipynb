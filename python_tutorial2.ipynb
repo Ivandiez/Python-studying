{
 "cells": [
  {
   "cell_type": "code",
   "execution_count": 1,
   "metadata": {},
   "outputs": [
    {
     "name": "stdout",
     "output_type": "stream",
     "text": [
      "An exception flew by!\n"
     ]
    },
    {
     "ename": "NameError",
     "evalue": "Hi there!",
     "output_type": "error",
     "traceback": [
      "\u001b[0;31m---------------------------------------------------------------------------\u001b[0m",
      "\u001b[0;31mNameError\u001b[0m                                 Traceback (most recent call last)",
      "\u001b[0;32m<ipython-input-1-0362c311db57>\u001b[0m in \u001b[0;36m<module>\u001b[0;34m\u001b[0m\n\u001b[1;32m      1\u001b[0m \u001b[0;31m# Raising exceptions\u001b[0m\u001b[0;34m\u001b[0m\u001b[0;34m\u001b[0m\u001b[0;34m\u001b[0m\u001b[0m\n\u001b[1;32m      2\u001b[0m \u001b[0;32mtry\u001b[0m\u001b[0;34m:\u001b[0m\u001b[0;34m\u001b[0m\u001b[0;34m\u001b[0m\u001b[0m\n\u001b[0;32m----> 3\u001b[0;31m     \u001b[0;32mraise\u001b[0m \u001b[0mNameError\u001b[0m\u001b[0;34m(\u001b[0m\u001b[0;34m\"Hi there!\"\u001b[0m\u001b[0;34m)\u001b[0m\u001b[0;34m\u001b[0m\u001b[0;34m\u001b[0m\u001b[0m\n\u001b[0m\u001b[1;32m      4\u001b[0m \u001b[0;32mexcept\u001b[0m \u001b[0mNameError\u001b[0m\u001b[0;34m:\u001b[0m\u001b[0;34m\u001b[0m\u001b[0;34m\u001b[0m\u001b[0m\n\u001b[1;32m      5\u001b[0m     \u001b[0mprint\u001b[0m\u001b[0;34m(\u001b[0m\u001b[0;34m\"An exception flew by!\"\u001b[0m\u001b[0;34m)\u001b[0m\u001b[0;34m\u001b[0m\u001b[0;34m\u001b[0m\u001b[0m\n",
      "\u001b[0;31mNameError\u001b[0m: Hi there!"
     ]
    }
   ],
   "source": [
    "# Raising exceptions\n",
    "\"\"\"\n",
    "Оператор raise позволяет программисту принудительно вызвать указанное исключение.\n",
    "Единственный аргумент для вызова указывает на исключение, которое должно быть вызвано. \n",
    "Это должен быть либо экземпляр исключения, либо класс исключения (класс, производный от Exception). \n",
    "Если класс исключения передается, он будет неявно создан путем вызова его конструктора без аргументов:\n",
    "\"\"\"\n",
    "try:\n",
    "    raise NameError(\"Hi there!\")\n",
    "except NameError:\n",
    "    print(\"An exception flew by!\")\n",
    "    raise "
   ]
  },
  {
   "cell_type": "code",
   "execution_count": 3,
   "metadata": {},
   "outputs": [],
   "source": [
    "# User-Defined exceptions\n",
    "\"\"\"\n",
    "Programs may name their own exceptions by creating a new exception class (see Classes for more about Python \n",
    "classes). Exceptions should typically be derived from the Exception class, either directly or indirectly.\n",
    "When creating a module that can raise several distinct errors, a common practice is to create a base class for \n",
    "exceptions defined by that module, and subclass that to create specific exception classes for different error \n",
    "conditions:\n",
    "\"\"\"\n",
    "class Error(Exception):\n",
    "    \"\"\"Base class for exceptions in this module\"\"\"\n",
    "    pass\n",
    "\n",
    "class InputError(Error):\n",
    "    \"\"\"Exception raised for errors in the input\n",
    "    \n",
    "    Attributes\n",
    "        expression -- input expression in which the error occured\n",
    "        message -- explanation of the error\n",
    "    \"\"\"\n",
    "    def __init__(self, expression, message):\n",
    "        self.expression = expression\n",
    "        self.message = message\n",
    "        \n",
    "    \n",
    "class TransitionError(Error):\n",
    "    \"\"\"Raised when an operation attempts a state transition that's not allowed.\n",
    "    \n",
    "    Attributes:\n",
    "        previous -- state at beginnig in transition\n",
    "        next -- attempted new state\n",
    "        message -- explanation of why the specific transition is not allowed.\n",
    "    \"\"\"\n",
    "    def __init__(self, previous, next, message):\n",
    "        self.previous = previous\n",
    "        self.next = next\n",
    "        self.message = message"
   ]
  },
  {
   "cell_type": "code",
   "execution_count": 10,
   "metadata": {},
   "outputs": [
    {
     "name": "stdout",
     "output_type": "stream",
     "text": [
      "False\n",
      "result is 2.0\n",
      "Executing finally close\n",
      "None\n",
      "Division by zero!\n",
      "Executing finally close\n",
      "None\n",
      "Executing finally close\n"
     ]
    },
    {
     "ename": "TypeError",
     "evalue": "unsupported operand type(s) for /: 'str' and 'str'",
     "output_type": "error",
     "traceback": [
      "\u001b[0;31m---------------------------------------------------------------------------\u001b[0m",
      "\u001b[0;31mTypeError\u001b[0m                                 Traceback (most recent call last)",
      "\u001b[0;32m<ipython-input-10-d64a6d401c7f>\u001b[0m in \u001b[0;36m<module>\u001b[0;34m\u001b[0m\n\u001b[1;32m     39\u001b[0m \u001b[0mprint\u001b[0m\u001b[0;34m(\u001b[0m\u001b[0mdivide\u001b[0m\u001b[0;34m(\u001b[0m\u001b[0;36m2\u001b[0m\u001b[0;34m,\u001b[0m \u001b[0;36m1\u001b[0m\u001b[0;34m)\u001b[0m\u001b[0;34m)\u001b[0m\u001b[0;34m\u001b[0m\u001b[0;34m\u001b[0m\u001b[0m\n\u001b[1;32m     40\u001b[0m \u001b[0mprint\u001b[0m\u001b[0;34m(\u001b[0m\u001b[0mdivide\u001b[0m\u001b[0;34m(\u001b[0m\u001b[0;36m2\u001b[0m\u001b[0;34m,\u001b[0m \u001b[0;36m0\u001b[0m\u001b[0;34m)\u001b[0m\u001b[0;34m)\u001b[0m\u001b[0;34m\u001b[0m\u001b[0;34m\u001b[0m\u001b[0m\n\u001b[0;32m---> 41\u001b[0;31m \u001b[0mprint\u001b[0m\u001b[0;34m(\u001b[0m\u001b[0mdivide\u001b[0m\u001b[0;34m(\u001b[0m\u001b[0;34m\"2\"\u001b[0m\u001b[0;34m,\u001b[0m \u001b[0;34m\"1\"\u001b[0m\u001b[0;34m)\u001b[0m\u001b[0;34m)\u001b[0m\u001b[0;34m\u001b[0m\u001b[0;34m\u001b[0m\u001b[0m\n\u001b[0m",
      "\u001b[0;32m<ipython-input-10-d64a6d401c7f>\u001b[0m in \u001b[0;36mdivide\u001b[0;34m(x, y)\u001b[0m\n\u001b[1;32m     29\u001b[0m \u001b[0;32mdef\u001b[0m \u001b[0mdivide\u001b[0m\u001b[0;34m(\u001b[0m\u001b[0mx\u001b[0m\u001b[0;34m,\u001b[0m \u001b[0my\u001b[0m\u001b[0;34m)\u001b[0m\u001b[0;34m:\u001b[0m\u001b[0;34m\u001b[0m\u001b[0;34m\u001b[0m\u001b[0m\n\u001b[1;32m     30\u001b[0m     \u001b[0;32mtry\u001b[0m\u001b[0;34m:\u001b[0m\u001b[0;34m\u001b[0m\u001b[0;34m\u001b[0m\u001b[0m\n\u001b[0;32m---> 31\u001b[0;31m         \u001b[0mresult\u001b[0m \u001b[0;34m=\u001b[0m \u001b[0mx\u001b[0m \u001b[0;34m/\u001b[0m \u001b[0my\u001b[0m\u001b[0;34m\u001b[0m\u001b[0;34m\u001b[0m\u001b[0m\n\u001b[0m\u001b[1;32m     32\u001b[0m     \u001b[0;32mexcept\u001b[0m \u001b[0mZeroDivisionError\u001b[0m\u001b[0;34m:\u001b[0m\u001b[0;34m\u001b[0m\u001b[0;34m\u001b[0m\u001b[0m\n\u001b[1;32m     33\u001b[0m         \u001b[0mprint\u001b[0m\u001b[0;34m(\u001b[0m\u001b[0;34m\"Division by zero!\"\u001b[0m\u001b[0;34m)\u001b[0m\u001b[0;34m\u001b[0m\u001b[0;34m\u001b[0m\u001b[0m\n",
      "\u001b[0;31mTypeError\u001b[0m: unsupported operand type(s) for /: 'str' and 'str'"
     ]
    }
   ],
   "source": [
    "# Definig clean-up actions\n",
    "#try:\n",
    " #   raise KeyboardInterrupt\n",
    "#finally:\n",
    " #   print(\"Goodbye, world!\")\n",
    "\n",
    "\"\"\"\n",
    "If a finally clause is present, the finally clause will execute as the last task before the try statement \n",
    "completes. The finally clause runs whether or not the try statement produces an exception. The following \n",
    "points discuss more complex cases when an exception occurs:\n",
    "If an exception occurs during execution of the try clause, the exception may be handled by an except clause. \n",
    "If the exception is not handled by an except clause, the exception is re-raised after the finally clause has \n",
    "been executed. An exception could occur during execution of an except or else clause. Again, the exception is \n",
    "re-raised after the finally clause has been executed.\n",
    "If the try statement reaches a break, continue or return statement, the finally clause will execute just \n",
    "prior to the break, continue or return statement’s execution.\n",
    "If a finally clause includes a return statement, the finally clause’s return statement will execute before, \n",
    "and instead of, the return statement in a try clause.\n",
    "\"\"\"\n",
    "def bool_return():\n",
    "    try:\n",
    "        return True\n",
    "    finally:\n",
    "        return False\n",
    "\n",
    "print(bool_return())\n",
    "\n",
    "# another example\n",
    "def divide(x, y):\n",
    "    try:\n",
    "        result = x / y\n",
    "    except ZeroDivisionError:\n",
    "        print(\"Division by zero!\")\n",
    "    else:\n",
    "        print(\"result is\", result)\n",
    "    finally:\n",
    "        print(\"Executing finally close\")\n",
    "\n",
    "print(divide(2, 1))\n",
    "print(divide(2, 0))\n",
    "print(divide(\"2\", \"1\"))\n",
    "\n",
    "\"\"\"\n",
    "In real world applications, the finally clause is useful for releasing external resources (such as files or \n",
    "network connections), regardless of whether the use of the resource was successful.\n",
    "\"\"\""
   ]
  },
  {
   "cell_type": "code",
   "execution_count": 11,
   "metadata": {},
   "outputs": [
    {
     "ename": "FileNotFoundError",
     "evalue": "[Errno 2] No such file or directory: 'myfile.txt'",
     "output_type": "error",
     "traceback": [
      "\u001b[0;31m---------------------------------------------------------------------------\u001b[0m",
      "\u001b[0;31mFileNotFoundError\u001b[0m                         Traceback (most recent call last)",
      "\u001b[0;32m<ipython-input-11-5b921dd71db6>\u001b[0m in \u001b[0;36m<module>\u001b[0;34m\u001b[0m\n\u001b[1;32m      1\u001b[0m \u001b[0;31m#Predefined clean-up actions\u001b[0m\u001b[0;34m\u001b[0m\u001b[0;34m\u001b[0m\u001b[0;34m\u001b[0m\u001b[0m\n\u001b[0;32m----> 2\u001b[0;31m \u001b[0;32mwith\u001b[0m \u001b[0mopen\u001b[0m\u001b[0;34m(\u001b[0m\u001b[0;34m\"myfile.txt\"\u001b[0m\u001b[0;34m)\u001b[0m \u001b[0;32mas\u001b[0m \u001b[0mf\u001b[0m\u001b[0;34m:\u001b[0m\u001b[0;34m\u001b[0m\u001b[0;34m\u001b[0m\u001b[0m\n\u001b[0m\u001b[1;32m      3\u001b[0m     \u001b[0;32mfor\u001b[0m \u001b[0mline\u001b[0m \u001b[0;32min\u001b[0m \u001b[0mf\u001b[0m\u001b[0;34m:\u001b[0m\u001b[0;34m\u001b[0m\u001b[0;34m\u001b[0m\u001b[0m\n\u001b[1;32m      4\u001b[0m         \u001b[0mprint\u001b[0m\u001b[0;34m(\u001b[0m\u001b[0mline\u001b[0m\u001b[0;34m,\u001b[0m \u001b[0mend\u001b[0m\u001b[0;34m=\u001b[0m\u001b[0;34m\"\"\u001b[0m\u001b[0;34m)\u001b[0m\u001b[0;34m\u001b[0m\u001b[0;34m\u001b[0m\u001b[0m\n",
      "\u001b[0;31mFileNotFoundError\u001b[0m: [Errno 2] No such file or directory: 'myfile.txt'"
     ]
    }
   ],
   "source": [
    "#Predefined clean-up actions\n",
    "with open(\"myfile.txt\") as f:\n",
    "    for line in f:\n",
    "        print(line, end=\"\")"
   ]
  },
  {
   "cell_type": "code",
   "execution_count": 1,
   "metadata": {},
   "outputs": [
    {
     "name": "stdout",
     "output_type": "stream",
     "text": [
      "After local assignment: test spam\n",
      "After nonlocal assignment: nonlocal spam\n",
      "After global assignment: nonlocal spam\n",
      "In global scope: global spam\n"
     ]
    }
   ],
   "source": [
    "# Variables scope\n",
    "\"\"\"\n",
    "the local assignment (which is default) didn’t change scope_test’s binding of spam. The nonlocal assignment \n",
    "changed scope_test’s binding of spam, and the global assignment changed the module-level binding.\n",
    "\"\"\"\n",
    "def scope_test():\n",
    "    def do_local():\n",
    "        spam = \"local spam\"\n",
    "    \n",
    "    def do_nonlocal():\n",
    "        nonlocal spam\n",
    "        spam = \"nonlocal spam\"\n",
    "        \n",
    "    def do_global():\n",
    "        global spam\n",
    "        spam = \"global spam\"\n",
    "        \n",
    "    spam = \"test spam\"\n",
    "    do_local()\n",
    "    print(\"After local assignment:\", spam)\n",
    "    do_nonlocal()\n",
    "    print(\"After nonlocal assignment:\", spam)\n",
    "    do_global()\n",
    "    print(\"After global assignment:\", spam)\n",
    "    \n",
    "scope_test()\n",
    "print(\"In global scope:\", spam)"
   ]
  },
  {
   "cell_type": "code",
   "execution_count": 2,
   "metadata": {},
   "outputs": [
    {
     "data": {
      "text/plain": [
       "'\\nclass ClassName:\\n    <statement-1>\\n    .\\n    .\\n    .\\n    <statement-N>\\n'"
      ]
     },
     "execution_count": 2,
     "metadata": {},
     "output_type": "execute_result"
    }
   ],
   "source": [
    "# Class Definition Syntax\n",
    "\"\"\"\n",
    "class ClassName:\n",
    "    <statement-1>\n",
    "    .\n",
    "    .\n",
    "    .\n",
    "    <statement-N>\n",
    "\"\"\""
   ]
  },
  {
   "cell_type": "code",
   "execution_count": 10,
   "metadata": {},
   "outputs": [
    {
     "name": "stdout",
     "output_type": "stream",
     "text": [
      "3.0 -4.5\n"
     ]
    }
   ],
   "source": [
    "# Class objects\n",
    "\"\"\"\n",
    "Class objects support two kinds of operations: attribute references and instantiation (экземпляр).\n",
    "Attribute references use the standard syntax used for all attribute references in Python: obj.name. \n",
    "Valid attribute names are all the names that were in the class’s namespace when the class object was created. \n",
    "So, if the class definition looked like this:\n",
    "\"\"\"\n",
    "class MyClass:\n",
    "    \"\"\"A simple example of class\"\"\"\n",
    "    i = 12345\n",
    "    \n",
    "    def __init__(self):\n",
    "        self.data = []\n",
    "    \n",
    "    def f(self):\n",
    "        return \"hello world\"\n",
    "\"\"\"\n",
    "then MyClass.i and MyClass.f are valid attribute references, returning an integer and a function object, respectively. \n",
    "Class attributes can also be assigned to, so you can change the value of MyClass.i by assignment. __doc__ is also \n",
    "a valid attribute, returning the docstring belonging to the class: \"A simple example class\".\n",
    "\n",
    "Class instantiation uses function notation. Just pretend that the class object is a parameterless function that \n",
    "returns a new instance of the class. For example (assuming the above class):\n",
    "\"\"\"\n",
    "x = MyClass()\n",
    "\"\"\"creates a new instance of the class and assigns this object to the local variable x.\n",
    "\n",
    "The instantiation operation (“calling” a class object) creates an empty object. Many classes like to create \n",
    "objects with instances customized to a specific initial state. Therefore a class may define a special method \n",
    "named __init__(), like this:\n",
    "\n",
    "def __init__(self):\n",
    "        self.data = []\n",
    "\n",
    "When a class defines an __init__() method, class instantiation automatically invokes __init__() for the \n",
    "newly-created class instance. So in this example, a new, initialized instance can be obtained by:\n",
    "\n",
    "x = MyClass()\n",
    "\"\"\"\n",
    "\n",
    "class Complex:\n",
    "    def __init__(self, realpart, imagpart):\n",
    "        self.r = realpart\n",
    "        self.i = imagpart\n",
    "\n",
    "x = Complex(3.0, -4.5)\n",
    "print(x.r, x.i)"
   ]
  },
  {
   "cell_type": "code",
   "execution_count": 12,
   "metadata": {},
   "outputs": [
    {
     "name": "stdout",
     "output_type": "stream",
     "text": [
      "16\n"
     ]
    }
   ],
   "source": [
    "# Instance Objects\n",
    "\"\"\"There are two kinds of valid attribute names, data attributes and methods.\n",
    "data attributes correspond to “instance variables” in Smalltalk, and to “data members” in C++. Data attributes \n",
    "need not be declared; like local variables, they spring into existence when they are first assigned to. \n",
    "For example, if x is the instance of MyClass created above, the following piece of code will print the value 16, \n",
    "without leaving a trace:\n",
    "\"\"\"\n",
    "x.Counter = 1\n",
    "while x.Counter < 10:\n",
    "    x.Counter = x.Counter * 2\n",
    "print(x.Counter)\n",
    "del x.Counter\n",
    "\"\"\"\n",
    "The other kind of instance attribute reference is a method. A method is a function that “belongs to” an object. \n",
    "(In Python, the term method is not unique to class instances: other object types can have methods as well. \n",
    "For example, list objects have methods called append, insert, remove, sort, and so on. However, in the following \n",
    "discussion, we’ll use the term method exclusively to mean methods of class instance objects, unless explicitly \n",
    "stated otherwise.)\n",
    "\"\"\""
   ]
  },
  {
   "cell_type": "code",
   "execution_count": 16,
   "metadata": {},
   "outputs": [
    {
     "name": "stdout",
     "output_type": "stream",
     "text": [
      "canine\n",
      "canine\n",
      "Fido\n",
      "Banny\n",
      "['roll_over']\n",
      "['play dead']\n"
     ]
    }
   ],
   "source": [
    "# Class and Instance Variables\n",
    "class Dog:\n",
    "    \n",
    "    kind = \"canine\" # class variable shared by all instances\n",
    "    \n",
    "    def __init__(self, name):\n",
    "        self.name = name  # instance variable unique to each instance\n",
    "        self.tricks = []  # creates a new empty list for each dog\n",
    "        \n",
    "    def add_trick(self, trick):\n",
    "        self.tricks.append(trick)\n",
    "        \n",
    "d = Dog(\"Fido\")\n",
    "e = Dog(\"Banny\")\n",
    "print(d.kind)   # shared by all dogs\n",
    "print(e.kind)   # shared by all dogs\n",
    "print(d.name)   # unique to d\n",
    "print(e.name)   # unique to e\n",
    "d.add_trick(\"roll_over\")\n",
    "e.add_trick(\"play dead\")\n",
    "print(d.tricks)\n",
    "print(e.tricks)"
   ]
  },
  {
   "cell_type": "code",
   "execution_count": 22,
   "metadata": {},
   "outputs": [
    {
     "name": "stdout",
     "output_type": "stream",
     "text": [
      "storage west\n",
      "storage east\n"
     ]
    }
   ],
   "source": [
    "# Random Remarks\n",
    "class Warehouse:\n",
    "    purpose = \"storage\"\n",
    "    region = \"west\"\n",
    "    \n",
    "w1 = Warehouse()\n",
    "print(w1.purpose, w1.region)\n",
    "w2 = Warehouse()\n",
    "w2.region = \"east\"\n",
    "print(w2.purpose, w2.region)\n",
    "\n",
    "\n",
    "\"\"\"\n",
    "f, g and h are all attributes of class C that refer to function objects, and consequently they are all methods \n",
    "of instances of C — h being exactly equivalent to g.\n",
    "\"\"\"\n",
    "def f1(self, x, y):\n",
    "    return min(x, x + y)\n",
    "\n",
    "class C:\n",
    "    f = f1\n",
    "    \n",
    "    def g(self):\n",
    "        return \"Hello world\"\n",
    "    \n",
    "    h = g\n",
    "\n",
    "\"\"\"\n",
    "Methods may call other methods by using method attributes of the self argument\n",
    "\"\"\"    \n",
    "class Bag:\n",
    "    def __init__(self):\n",
    "        self.data = []\n",
    "        \n",
    "    def add(self, x):\n",
    "        self.data.append(x)\n",
    "        \n",
    "    def addtwice(self, x):\n",
    "        self.add(x)\n",
    "        self.add(x)\n",
    "\"\"\"\n",
    "Each value is an object, and therefore has a class (also called its type). It is stored as object.__class__.\n",
    "\"\"\""
   ]
  },
  {
   "cell_type": "code",
   "execution_count": 23,
   "metadata": {},
   "outputs": [
    {
     "data": {
      "text/plain": [
       "'\\nclass DerivedClassName(BaseClassName):\\n    <statement-1>\\n    .\\n    .\\n    .\\n    <statement-N>\\n\\nor\\n\\nclass DerivedClassName(modname.BaseClassName):\\n\\nWhen the class object is constructed, the base class is remembered. This is used for resolving attribute \\nreferences: if a requested attribute is not found in the class, the search proceeds to look in the base class. \\nThis rule is applied recursively if the base class itself is derived from some other class.\\n\\nDerivedClassName() creates a new instance of the class.\\nDerived classes may override methods of their base classes.\\n\\nA simple way to call the base class method directly: just call BaseClassName.methodname(self, arguments). \\nThis is occasionally useful to clients as well.\\n\\nPython has two built-in functions that work with inheritance:\\n\\nUse isinstance() to check an instance’s type: isinstance(obj, int) will be True only if obj.__class__ is int \\nor some class derived from int.\\n\\nUse issubclass() to check class inheritance: issubclass(bool, int) is True since bool is a subclass of int. \\nHowever, issubclass(float, int) is False since float is not a subclass of int.\\n'"
      ]
     },
     "execution_count": 23,
     "metadata": {},
     "output_type": "execute_result"
    }
   ],
   "source": [
    "# Inheritance\n",
    "\"\"\"\n",
    "class DerivedClassName(BaseClassName):\n",
    "    <statement-1>\n",
    "    .\n",
    "    .\n",
    "    .\n",
    "    <statement-N>\n",
    "\n",
    "or\n",
    "\n",
    "class DerivedClassName(modname.BaseClassName):\n",
    "\n",
    "When the class object is constructed, the base class is remembered. This is used for resolving attribute \n",
    "references: if a requested attribute is not found in the class, the search proceeds to look in the base class. \n",
    "This rule is applied recursively if the base class itself is derived from some other class.\n",
    "\n",
    "DerivedClassName() creates a new instance of the class.\n",
    "Derived classes may override methods of their base classes.\n",
    "\n",
    "A simple way to call the base class method directly: just call BaseClassName.methodname(self, arguments). \n",
    "This is occasionally useful to clients as well.\n",
    "\n",
    "Python has two built-in functions that work with inheritance:\n",
    "\n",
    "Use isinstance() to check an instance’s type: isinstance(obj, int) will be True only if obj.__class__ is int \n",
    "or some class derived from int.\n",
    "\n",
    "Use issubclass() to check class inheritance: issubclass(bool, int) is True since bool is a subclass of int. \n",
    "However, issubclass(float, int) is False since float is not a subclass of int.\n",
    "\"\"\""
   ]
  },
  {
   "cell_type": "code",
   "execution_count": null,
   "metadata": {},
   "outputs": [],
   "source": []
  }
 ],
 "metadata": {
  "kernelspec": {
   "display_name": "Python 3",
   "language": "python",
   "name": "python3"
  },
  "language_info": {
   "codemirror_mode": {
    "name": "ipython",
    "version": 3
   },
   "file_extension": ".py",
   "mimetype": "text/x-python",
   "name": "python",
   "nbconvert_exporter": "python",
   "pygments_lexer": "ipython3",
   "version": "3.7.5"
  }
 },
 "nbformat": 4,
 "nbformat_minor": 2
}
