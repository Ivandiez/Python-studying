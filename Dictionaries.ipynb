{
 "cells": [
  {
   "cell_type": "code",
   "execution_count": 21,
   "metadata": {},
   "outputs": [
    {
     "name": "stdout",
     "output_type": "stream",
     "text": [
      "{2: [-1]}\n",
      "{2: [-1, -2]}\n",
      "{2: [-1, -2, -3]}\n"
     ]
    }
   ],
   "source": [
    "# This program updates the input dict\n",
    "def update_dictionary(d, key, value):\n",
    "    if key in d:\n",
    "        d[key].append(value) # if dict exist key, append value to list\n",
    "    else:\n",
    "        if 2*key in d:\n",
    "            d[key*2].append(value) # if key not in dict and 2*key in dict - then append value to list\n",
    "        else:\n",
    "            d[2 * key] = [value] # if key not in dict and 2*key not in dict - append value to dict[key]\n",
    "\n",
    "d = {}\n",
    "update_dictionary(d, 1, -1)\n",
    "print(d)\n",
    "update_dictionary(d, 2, -2)\n",
    "print(d)\n",
    "update_dictionary(d, 1, -3)\n",
    "print(d)"
   ]
  },
  {
   "cell_type": "code",
   "execution_count": 29,
   "metadata": {},
   "outputs": [
    {
     "name": "stdout",
     "output_type": "stream",
     "text": [
      "a 2\n",
      "aa 2\n",
      "abc 2\n",
      "ac 1\n",
      "bcd 1\n"
     ]
    }
   ],
   "source": [
    "# this program print how many unique words string includes\n",
    "some_str = input().lower().split()\n",
    "# some_str = \"a aa abC aa ac abc bcd a\".lower().split()\n",
    "dic = {}\n",
    "\n",
    "def makes_dict(d, text):\n",
    "    for word in text:\n",
    "        if word not in d:\n",
    "            d[word] = 1\n",
    "        else:\n",
    "            d[word] += 1\n",
    "\n",
    "def print_dict(di):\n",
    "    makes_dict(di, some_str)\n",
    "    for key, value in di.items():\n",
    "        print(key, value)\n",
    "\n",
    "print_dict(dic)\n",
    "\n",
    "\"\"\"\n",
    "another solution:\n",
    "s = input().lower().split()\n",
    "for i in set(s):\n",
    "    print(i, s.count(i))\n",
    "\"\"\""
   ]
  },
  {
   "cell_type": "code",
   "execution_count": 33,
   "metadata": {},
   "outputs": [
    {
     "name": "stdout",
     "output_type": "stream",
     "text": [
      "4\n",
      "5\n",
      "3\n",
      "2\n",
      "4\n",
      "4\n",
      " 16\n",
      " 4\n",
      " 9\n",
      "\n"
     ]
    }
   ],
   "source": [
    "# Считайте, что функция f(x) уже определена выше. Определять её отдельно не требуется.\n",
    "input_dict = {}\n",
    "n = int(input())\n",
    "lst = [int(input()) for num in range(0, n)]\n",
    "\n",
    "def f(x):\n",
    "    return x ** 2\n",
    "\n",
    "for i in lst:\n",
    "    if i not in input_dict.keys():\n",
    "        input_dict[i] = f(i)\n",
    "    else:\n",
    "        continue\n",
    "        \n",
    "\n",
    "result = [str(input_dict[i]) + \"\\n\" for i in lst]\n",
    "print(*res)\n",
    "\n",
    "\"\"\"\n",
    "Another solution:\n",
    "d = {}\n",
    "for _ in range(int(input())):\n",
    "    x = int(input())\n",
    "    if x not in d:\n",
    "        d[x] = f(x)\n",
    "    print(d[x])\n",
    "\n",
    "Another solution:\n",
    "a=[int(input()) for i in range(int(input()))]\n",
    "b={x:f(x) for x in set(a)}\n",
    "for i in a:\n",
    "    print(b[i])\n",
    "\"\"\""
   ]
  }
 ],
 "metadata": {
  "kernelspec": {
   "display_name": "Python 3",
   "language": "python",
   "name": "python3"
  },
  "language_info": {
   "codemirror_mode": {
    "name": "ipython",
    "version": 3
   },
   "file_extension": ".py",
   "mimetype": "text/x-python",
   "name": "python",
   "nbconvert_exporter": "python",
   "pygments_lexer": "ipython3",
   "version": "3.7.5"
  }
 },
 "nbformat": 4,
 "nbformat_minor": 2
}
