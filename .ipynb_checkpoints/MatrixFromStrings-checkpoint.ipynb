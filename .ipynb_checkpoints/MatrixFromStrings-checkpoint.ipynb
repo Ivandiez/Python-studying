{
 "cells": [
  {
   "cell_type": "code",
   "execution_count": 1,
   "metadata": {},
   "outputs": [
    {
     "name": "stdout",
     "output_type": "stream",
     "text": [
      "9 5 3\n",
      "0 7 -1\n",
      "-5 2 9\n",
      "end\n",
      "3 21 22 \n",
      "10 6 19 \n",
      "20 16 -1 \n"
     ]
    }
   ],
   "source": [
    "s = ''\n",
    "res = []\n",
    "while True:\n",
    "    s = str(input()) # ввод строк\n",
    "    if s == 'end':\n",
    "        break\n",
    "    res.append([int(c) for c in s.split()]) \n",
    "li, lj = len(res), len(res[0])\n",
    "new = [[sum([res[i-1][j], res[(i+1)%li][j], res[i][j-1], res[i][(j+1)%lj]]) for j in range(lj)] for i in range(li)]\n",
    "\n",
    "for i in range (li):\n",
    "    for j in range (lj):\n",
    "        print(new[i][j], end =' ')\n",
    "    print()"
   ]
  },
  {
   "cell_type": "code",
   "execution_count": null,
   "metadata": {},
   "outputs": [],
   "source": []
  },
  {
   "cell_type": "code",
   "execution_count": null,
   "metadata": {},
   "outputs": [],
   "source": []
  }
 ],
 "metadata": {
  "kernelspec": {
   "display_name": "Python 3",
   "language": "python",
   "name": "python3"
  },
  "language_info": {
   "codemirror_mode": {
    "name": "ipython",
    "version": 3
   },
   "file_extension": ".py",
   "mimetype": "text/x-python",
   "name": "python",
   "nbconvert_exporter": "python",
   "pygments_lexer": "ipython3",
   "version": "3.7.5"
  }
 },
 "nbformat": 4,
 "nbformat_minor": 2
}
