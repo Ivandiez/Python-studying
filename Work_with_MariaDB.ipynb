{
 "cells": [
  {
   "cell_type": "code",
   "execution_count": 6,
   "metadata": {},
   "outputs": [
    {
     "name": "stdout",
     "output_type": "stream",
     "text": [
      "ISBN: 0553211757, Title: Crime & Punishment\n",
      "ISBN: 0553212168, Title: Brothers Karamazov\n",
      "ISBN: 0553213695, Title: The Metamorphosis\n",
      "ISBN: 0679420290, Title: Crime & Punishment\n"
     ]
    }
   ],
   "source": [
    "import mysql.connector as mariadb\n",
    "\n",
    "mariadb_connection = mariadb.connect(user='root', password='Ivan-DB', database='bookstore')\n",
    "cursor = mariadb_connection.cursor()\n",
    "\n",
    "cursor.execute(\"\"\"\n",
    "                  SELECT isbn, title FROM books LIMIT 0, 4\n",
    "               \"\"\")\n",
    "for isbn, title in cursor:\n",
    "    print(\"ISBN: {}, Title: {}\".format(isbn, title))\n",
    "    \n",
    "mariadb_connection.close()"
   ]
  },
  {
   "cell_type": "code",
   "execution_count": null,
   "metadata": {},
   "outputs": [],
   "source": []
  }
 ],
 "metadata": {
  "kernelspec": {
   "display_name": "Python 3",
   "language": "python",
   "name": "python3"
  },
  "language_info": {
   "codemirror_mode": {
    "name": "ipython",
    "version": 3
   },
   "file_extension": ".py",
   "mimetype": "text/x-python",
   "name": "python",
   "nbconvert_exporter": "python",
   "pygments_lexer": "ipython3",
   "version": "3.7.3"
  }
 },
 "nbformat": 4,
 "nbformat_minor": 4
}
