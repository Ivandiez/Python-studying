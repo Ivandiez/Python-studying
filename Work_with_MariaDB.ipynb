{
 "cells": [
  {
   "cell_type": "code",
   "execution_count": 11,
   "metadata": {},
   "outputs": [
    {
     "name": "stdout",
     "output_type": "stream",
     "text": [
      "Title: The Metamorphosis, Last name: Kafka\n",
      "Title: The Trial, Last name: Kafka\n",
      "Title: Amerika, Last name: Kafka\n",
      "Title: The Castle, Last name: Kafka\n",
      "\n",
      "ISBN: 0553212168, Title: Brothers Karamazov\n",
      "ISBN: 0553211757, Title: Crime & Punishment\n",
      "ISBN: 0679420290, Title: Crime & Punishment\n",
      "ISBN: 0804323644, Title: Idiot\n",
      "ISBN: 0679734522, Title: Notes from Underground\n",
      "\n"
     ]
    }
   ],
   "source": [
    "import mysql.connector as mariadb\n",
    "\n",
    "mariadb_connection = mariadb.connect(user='root', password='Ivan-DB', database='bookstore')\n",
    "cursor = mariadb_connection.cursor()\n",
    "\n",
    "cursor.execute(\"\"\"\n",
    "                  SELECT title, name_last\n",
    "                  FROM books\n",
    "                  JOIN authors USING (author_id)\n",
    "                  WHERE author_id = '1';\n",
    "               \"\"\")\n",
    "for title, name_last in cursor:\n",
    "    print(\"Title: {}, Last name: {}\".format(title, name_last))\n",
    "print()\n",
    "\n",
    "cursor.execute(\"\"\"\n",
    "                   SELECT DISTINCT isbn, title \n",
    "                   FROM books \n",
    "                   JOIN authors USING (author_id)\n",
    "                   WHERE name_last = 'Dostoevsky'\n",
    "                   ORDER BY title;\n",
    "                \"\"\")\n",
    "\n",
    "for isbn, title in cursor:\n",
    "    print(\"ISBN: {}, Title: {}\".format(isbn, title))\n",
    "print()\n",
    "\n",
    "mariadb_connection.close()"
   ]
  },
  {
   "cell_type": "code",
   "execution_count": null,
   "metadata": {},
   "outputs": [],
   "source": []
  }
 ],
 "metadata": {
  "kernelspec": {
   "display_name": "Python 3",
   "language": "python",
   "name": "python3"
  },
  "language_info": {
   "codemirror_mode": {
    "name": "ipython",
    "version": 3
   },
   "file_extension": ".py",
   "mimetype": "text/x-python",
   "name": "python",
   "nbconvert_exporter": "python",
   "pygments_lexer": "ipython3",
   "version": "3.7.3"
  }
 },
 "nbformat": 4,
 "nbformat_minor": 4
}
