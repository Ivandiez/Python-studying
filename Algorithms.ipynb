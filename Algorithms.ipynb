{
 "cells": [
  {
   "cell_type": "code",
   "execution_count": 6,
   "metadata": {},
   "outputs": [
    {
     "name": "stdout",
     "output_type": "stream",
     "text": [
      "[0, 1, 1, 22, 233, 234]\n",
      "CPU times: user 259 µs, sys: 38 µs, total: 297 µs\n",
      "Wall time: 221 µs\n"
     ]
    }
   ],
   "source": [
    "# This this the algorithm sort by selection. Time - O(n**2). Selection sort.\n",
    "\n",
    "# The function that find the smallest element in array\n",
    "def find_smallest(arr):\n",
    "    smallest = arr[0]\n",
    "    smallest_index = 0\n",
    "    for i in range(1, len(arr)):\n",
    "        if arr[i] < smallest:\n",
    "            smallest = arr[i]\n",
    "            smallest_index = i\n",
    "    return smallest_index\n",
    "\n",
    "# The function of selection sort\n",
    "def selection_sort(arr):\n",
    "    new_arr = []\n",
    "    for i in range(len(arr)):\n",
    "        smallest = find_smallest(arr)\n",
    "        new_arr.append(arr.pop(smallest))\n",
    "    return new_arr\n",
    "\n",
    "%time print(selection_sort([0, 1, 22, 1, 234, 233]))"
   ]
  },
  {
   "cell_type": "code",
   "execution_count": 4,
   "metadata": {},
   "outputs": [
    {
     "name": "stdout",
     "output_type": "stream",
     "text": [
      "39916800\n",
      "CPU times: user 185 µs, sys: 28 µs, total: 213 µs\n",
      "Wall time: 137 µs\n"
     ]
    }
   ],
   "source": [
    "# Recursion factorial\n",
    "\n",
    "def fact(x):\n",
    "    if x == 1:\n",
    "        return 1\n",
    "    else:\n",
    "        return x * fact(x - 1)\n",
    "    \n",
    "%time print(fact(11))"
   ]
  },
  {
   "cell_type": "code",
   "execution_count": 5,
   "metadata": {},
   "outputs": [
    {
     "name": "stdout",
     "output_type": "stream",
     "text": [
      "1\n",
      "CPU times: user 563 µs, sys: 48 µs, total: 611 µs\n",
      "Wall time: 489 µs\n",
      "None\n",
      "CPU times: user 113 µs, sys: 0 ns, total: 113 µs\n",
      "Wall time: 101 µs\n"
     ]
    }
   ],
   "source": [
    "# The algorithm of binary search\n",
    "\n",
    "def binary_search(arr, item):\n",
    "    low = 0 # в low и high хранятся границы той части списка,\n",
    "    high = len(arr) - 1 # в которой выполняется поиск  \n",
    "    while low <= high: # пока поиск не сократится до 1 элемента,\n",
    "        mid = (low + high)//2 # проверяем средний элемент\n",
    "        guess = arr[mid]\n",
    "        if guess == item: # значение найдено\n",
    "            return mid\n",
    "        if guess > item: # много\n",
    "            high = mid - 1\n",
    "        else:            # мало\n",
    "            low = mid + 1\n",
    "    return None          # значения не существует\n",
    "\n",
    "my_list = [1, 3, 5, 7, 9]\n",
    "\n",
    "%time print(binary_search(my_list, 3))\n",
    "%time print(binary_search(my_list, -1))"
   ]
  },
  {
   "cell_type": "code",
   "execution_count": 6,
   "metadata": {},
   "outputs": [
    {
     "name": "stdout",
     "output_type": "stream",
     "text": [
      "[2, 3, 5, 10]\n",
      "CPU times: user 63 µs, sys: 6 µs, total: 69 µs\n",
      "Wall time: 72.5 µs\n"
     ]
    }
   ],
   "source": [
    "# The quick sort algotithm\n",
    "\n",
    "def quick_sort(arr):\n",
    "    if len(arr) < 2:\n",
    "        return arr # базовый случай - массивы с 0 и 1 элементом уже отсортированы\n",
    "    else:\n",
    "        pivot = arr[0] # рекурсивный случай (опорный элемент)\n",
    "        less = [i for i in arr[1:] if i <= pivot] # подмассив всех элементов, меньше опорного\n",
    "        greater = [i for i in arr[1:] if i > pivot] # подмассив всех элементов, больше опорного\n",
    "        return quick_sort(less) + [pivot] + quick_sort(greater)\n",
    "\n",
    "%time print(quick_sort([10, 5, 3, 2]))"
   ]
  },
  {
   "cell_type": "code",
   "execution_count": 8,
   "metadata": {},
   "outputs": [
    {
     "name": "stdout",
     "output_type": "stream",
     "text": [
      "Let them vote!\n",
      "Let them vote!\n",
      "Kick them out!\n"
     ]
    }
   ],
   "source": [
    "# exclude duplicates from hash-table (dict)\n",
    "voted = {}\n",
    "def check_voter(name):\n",
    "    if voted.get(name): # возвращает значение, если ключ присутствует в таблице, иначе - None\n",
    "        print(\"Kick them out!\")\n",
    "    else:\n",
    "        voted[name] = True\n",
    "        print(\"Let them vote!\")\n",
    "        \n",
    "check_voter(\"Tom\")\n",
    "check_voter(\"Mark\")\n",
    "check_voter(\"Mark\")"
   ]
  },
  {
   "cell_type": "code",
   "execution_count": 9,
   "metadata": {},
   "outputs": [],
   "source": [
    "# How cache works\n",
    "cache = {}\n",
    "def get_page(url):\n",
    "    if cache.get(url):\n",
    "        return cache[url] # возвращаются кэшированные данные\n",
    "    else:\n",
    "        data = get_data_from_server(url)\n",
    "        cache[url] = data # данные сначала сохраняются в кэше\n",
    "        return data "
   ]
  },
  {
   "cell_type": "code",
   "execution_count": 24,
   "metadata": {},
   "outputs": [
    {
     "name": "stdout",
     "output_type": "stream",
     "text": [
      "{'you': ['alice', 'bob', 'claire'], 'bob': ['anuj', 'peggy'], 'alice': ['peggy'], 'claire': ['tom', 'jonny'], 'anuj': [], 'peggy': [], 'tom': [], 'jonny': []}\n",
      "tom is a mango seller!\n"
     ]
    },
    {
     "data": {
      "text/plain": [
       "True"
      ]
     },
     "execution_count": 24,
     "metadata": {},
     "output_type": "execute_result"
    }
   ],
   "source": [
    "from collections import deque\n",
    "\n",
    "# The realise of graph\n",
    "graph = {}\n",
    "graph[\"you\"] = [\"alice\", \"bob\", \"claire\"]\n",
    "graph[\"bob\"] = [\"anuj\", \"peggy\"]\n",
    "graph[\"alice\"] = [\"peggy\"]\n",
    "graph[\"claire\"] = [\"tom\", \"jonny\"]\n",
    "graph[\"anuj\"] = []\n",
    "graph[\"peggy\"] = []\n",
    "graph[\"tom\"] = []\n",
    "graph[\"jonny\"] = []\n",
    "\n",
    "print(graph)\n",
    "\n",
    "# check: seller - seller mango?\n",
    "def person_is_seller(name): \n",
    "    return name[-1] == 'm'\n",
    "\n",
    "# the realise of algorithm search in width\n",
    "def breadth_first_search(name):\n",
    "    search_queue = deque()\n",
    "    search_queue += graph[name]\n",
    "    searched = [] # этот массив используется для отслеживания уже проверенных людей\n",
    "    while search_queue:\n",
    "        person = search_queue.popleft()\n",
    "        if not person in searched: # человек проверяется только тогда, если он не проверялся ранее\n",
    "            if person_is_seller(person):\n",
    "                print(person + \" is a mango seller!\")\n",
    "                return True\n",
    "            else:\n",
    "                search_queue += graph[person]\n",
    "                searched.append(person) # человек помечается как уже проверенный\n",
    "    return False\n",
    "\n",
    "breadth_first_search(\"claire\")"
   ]
  },
  {
   "cell_type": "code",
   "execution_count": 28,
   "metadata": {},
   "outputs": [
    {
     "name": "stdout",
     "output_type": "stream",
     "text": [
      "{'a': 5, 'b': 2, 'fin': 6}\n",
      "{'a': 'b', 'b': 'start', 'fin': 'a'}\n"
     ]
    }
   ],
   "source": [
    "# The Deikstra algorithm\n",
    "graph[\"start\"] = {}\n",
    "graph[\"start\"][\"a\"] = 6\n",
    "graph[\"start\"][\"b\"] = 2\n",
    "\n",
    "graph[\"a\"] = {}\n",
    "graph[\"a\"][\"fin\"] = 1\n",
    "graph[\"b\"] = {}\n",
    "graph[\"b\"][\"a\"] = 3\n",
    "graph[\"b\"][\"fin\"] = 5\n",
    "graph[\"fin\"] = {} # у конечного узла нет соседей\n",
    "\n",
    "infinity = float(\"inf\")\n",
    "costs = {}\n",
    "costs[\"a\"] = 6\n",
    "costs[\"b\"] = 2\n",
    "costs[\"fin\"] = infinity\n",
    "\n",
    "parents = {}\n",
    "parents[\"a\"] = \"start\"\n",
    "parents[\"b\"] = \"start\"\n",
    "parents[\"fin\"] = None\n",
    "\n",
    "processed = []\n",
    "\n",
    "def find_lowest_cost_node(costs):\n",
    "    lowest_cost = float(\"inf\")\n",
    "    lowest_cost_node = None\n",
    "    for node in costs: # перебрать все узлы\n",
    "        cost = costs[node]\n",
    "        if cost < lowest_cost and node not in processed: # если это узел с наименьшей стоимостью из\n",
    "                                                         # уже виденных и он еще не был обработан\n",
    "            lowest_cost = cost # он назначается новым узлом с наименьшей стоимостью\n",
    "            lowest_cost_node = node\n",
    "    return lowest_cost_node\n",
    "\n",
    "node = find_lowest_cost_node(costs) # найти узел с наименьшей стоимостью среди необработанных\n",
    "while node is not None: # если обработаны все узлы, цикл while завершен\n",
    "    cost = costs[node]\n",
    "    neighbors = graph[node]\n",
    "    for n in neighbors.keys(): # перебрать всех соседей текущего узла\n",
    "        new_cost = cost + neighbors[n] # если к соседу можно добраться быстрее\n",
    "        if costs[n] > new_cost: # через текущий узел\n",
    "            costs[n] = new_cost # обновить стоимость для этого узла\n",
    "            parents[n] = node # этот узел становится новым родителем для соседа\n",
    "    processed.append(node) # узел помечается как обработанный\n",
    "    node = find_lowest_cost_node(costs) # найти следующий узел для обработки и повторить цикл\n",
    "\n",
    "print(costs)\n",
    "print(parents)"
   ]
  },
  {
   "cell_type": "code",
   "execution_count": 31,
   "metadata": {},
   "outputs": [
    {
     "ename": "KeyboardInterrupt",
     "evalue": "",
     "output_type": "error",
     "traceback": [
      "\u001b[0;31m---------------------------------------------------------------------------\u001b[0m",
      "\u001b[0;31mKeyboardInterrupt\u001b[0m                         Traceback (most recent call last)",
      "\u001b[0;32m<ipython-input-31-5dfee546c716>\u001b[0m in \u001b[0;36m<module>\u001b[0;34m\u001b[0m\n\u001b[1;32m     16\u001b[0m     \u001b[0;32mfor\u001b[0m \u001b[0mstation\u001b[0m\u001b[0;34m,\u001b[0m \u001b[0mstates_for_stations\u001b[0m \u001b[0;32min\u001b[0m \u001b[0mstations\u001b[0m\u001b[0;34m.\u001b[0m\u001b[0mitems\u001b[0m\u001b[0;34m(\u001b[0m\u001b[0;34m)\u001b[0m\u001b[0;34m:\u001b[0m\u001b[0;34m\u001b[0m\u001b[0;34m\u001b[0m\u001b[0m\n\u001b[1;32m     17\u001b[0m         \u001b[0mcovered\u001b[0m \u001b[0;34m=\u001b[0m \u001b[0mstates_needed\u001b[0m \u001b[0;34m&\u001b[0m \u001b[0mstates_for_stations\u001b[0m\u001b[0;34m\u001b[0m\u001b[0;34m\u001b[0m\u001b[0m\n\u001b[0;32m---> 18\u001b[0;31m         \u001b[0;32mif\u001b[0m \u001b[0mlen\u001b[0m\u001b[0;34m(\u001b[0m\u001b[0mcovered\u001b[0m\u001b[0;34m)\u001b[0m \u001b[0;34m>\u001b[0m \u001b[0mlen\u001b[0m\u001b[0;34m(\u001b[0m\u001b[0mstates_covered\u001b[0m\u001b[0;34m)\u001b[0m\u001b[0;34m:\u001b[0m\u001b[0;34m\u001b[0m\u001b[0;34m\u001b[0m\u001b[0m\n\u001b[0m\u001b[1;32m     19\u001b[0m             \u001b[0mbest_station\u001b[0m \u001b[0;34m=\u001b[0m \u001b[0mstation\u001b[0m\u001b[0;34m\u001b[0m\u001b[0;34m\u001b[0m\u001b[0m\n\u001b[1;32m     20\u001b[0m             \u001b[0mstates_covered\u001b[0m \u001b[0;34m=\u001b[0m \u001b[0mcovered\u001b[0m\u001b[0;34m\u001b[0m\u001b[0;34m\u001b[0m\u001b[0m\n",
      "\u001b[0;31mKeyboardInterrupt\u001b[0m: "
     ]
    }
   ],
   "source": [
    "# greedy algorithm (жадный алгоритм)\n",
    "states_needed = set([\"mt\", \"wa\", \"or\", \"id\", \"nv\", \"ut\", \"ca\", \"az\"]) # переданный массив преобразуется в множество\n",
    "\n",
    "stations = {}\n",
    "stations[\"kone\"] = set([\"id\", \"nv\",\"ut\"])\n",
    "stations[\"ktwo\"] = set([\"wa\", \"id\", \"mt\"])\n",
    "stations[\"kthree\"] = set([\"or\", \"nv\", \"ca\"])\n",
    "stations[\"kfour\"] = set([\"nv\", \"ut\"])\n",
    "stations[\"kfive\"] = set([\"ca\", \"az\"])\n",
    "\n",
    "final_stations = set()\n",
    "\n",
    "while states_needed:\n",
    "    best_station = None\n",
    "    states_covered = set()\n",
    "    for station, states_for_stations in stations.items():\n",
    "        covered = states_needed & states_for_stations\n",
    "        if len(covered) > len(states_covered):\n",
    "            best_station = station\n",
    "            states_covered = covered\n",
    "\n",
    "states_needed -= states_covered\n",
    "final_stations.add(best_station)\n",
    "\n",
    "%time print(final_stations)"
   ]
  },
  {
   "cell_type": "code",
   "execution_count": 150,
   "metadata": {},
   "outputs": [
    {
     "name": "stdout",
     "output_type": "stream",
     "text": [
      "30240\n"
     ]
    }
   ],
   "source": [
    "from itertools import permutations\n",
    "\n",
    "\n",
    "def perms(some_string):\n",
    "    perm_repeated = permutations(some_string)\n",
    "\n",
    "    return len(set(perm_repeated))\n",
    "\n",
    "print(perms(\"MARGARITA\"))"
   ]
  },
  {
   "cell_type": "code",
   "execution_count": 161,
   "metadata": {},
   "outputs": [
    {
     "name": "stdout",
     "output_type": "stream",
     "text": [
      "2\n",
      "3\n"
     ]
    }
   ],
   "source": [
    "import csv\n",
    "from datetime import timedelta, datetime\n",
    "\n",
    "dict_val = {} # dict for easier work with time\n",
    "result = [] # list for print the result\n",
    "\n",
    "with open(\"trades.csv\", \"r\") as file:\n",
    "\n",
    "    count = 0 # counter\n",
    "    reader = csv.reader(file, delimiter=',') # read from file\n",
    "\n",
    "    for row in reader:\n",
    "\n",
    "        # here i change time from str to timedelta val for easier working while i need compare time\n",
    "        time = datetime.strptime(row[0], \"%H:%M:%S.%f\")\n",
    "\n",
    "        # here i make the dict from csv there key is \"EXCHANGE\"\n",
    "        if row[3] not in dict_val:\n",
    "            dict_val[row[3]] = [time]\n",
    "        else:\n",
    "            dict_val[row[3]].append(time)\n",
    "\n",
    "    # here i check that val are in time interval of one minute\n",
    "    for key, value in sorted(dict_val.items()):\n",
    "        for i in range(len(dict_val[key])):\n",
    "            if dict_val[key][i] - dict_val[key][0] < timedelta(minutes=1):\n",
    "                count += 1\n",
    "        result.append(count)\n",
    "        count = 0\n",
    "\n",
    "print(*result[-len(dict_val.keys()):], sep=\"\\n\")"
   ]
  },
  {
   "cell_type": "code",
   "execution_count": 162,
   "metadata": {},
   "outputs": [
    {
     "name": "stdout",
     "output_type": "stream",
     "text": [
      "2\n",
      "3\n"
     ]
    }
   ],
   "source": [
    "import csv\n",
    "import datetime\n",
    "\n",
    "difference = datetime.timedelta(minutes=1)\n",
    "\n",
    "def diff_calc(start, dates):\n",
    "    for i, date in enumerate(dates):\n",
    "        if date >= start + difference:\n",
    "            return i\n",
    "    return i + 1\n",
    "\n",
    "exs = {}\n",
    "\n",
    "with open(\"trades.csv\", \"r\") as file:\n",
    "    reader = csv.reader(file, delimiter=\",\")\n",
    "    for row in reader:\n",
    "        ex = row[3]\n",
    "        if ex not in exs:\n",
    "            exs[ex] = []\n",
    "\n",
    "        time = datetime.datetime.strptime(row[0], \"%H:%M:%S.%f\")\n",
    "        exs[ex].append(time)\n",
    "\n",
    "ex_max = {}\n",
    "for name, dates in exchanges.items():\n",
    "    ex_max[name] = 0\n",
    "    for i, d in enumerate(dates):\n",
    "        x = diff_calc(d, dates[i:])\n",
    "        if x > ex_max[name]:\n",
    "            ex_max[name] = x\n",
    "\n",
    "print('\\n'.join([str(ex_max[k]) for k in sorted(ex_max.keys())]))"
   ]
  },
  {
   "cell_type": "code",
   "execution_count": null,
   "metadata": {},
   "outputs": [],
   "source": []
  }
 ],
 "metadata": {
  "kernelspec": {
   "display_name": "Python 3",
   "language": "python",
   "name": "python3"
  },
  "language_info": {
   "codemirror_mode": {
    "name": "ipython",
    "version": 3
   },
   "file_extension": ".py",
   "mimetype": "text/x-python",
   "name": "python",
   "nbconvert_exporter": "python",
   "pygments_lexer": "ipython3",
   "version": "3.7.5"
  }
 },
 "nbformat": 4,
 "nbformat_minor": 2
}
