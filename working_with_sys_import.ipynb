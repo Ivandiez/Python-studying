{
 "cells": [
  {
   "cell_type": "code",
   "execution_count": 37,
   "metadata": {},
   "outputs": [
    {
     "name": "stdout",
     "output_type": "stream",
     "text": [
      "-f /home/ivan/.local/share/jupyter/runtime/kernel-d899716a-91bb-4386-a680-389d5da9df54.json\n"
     ]
    }
   ],
   "source": [
    "import sys\n",
    "s = \"\"\n",
    "for i in sys.argv:\n",
    "    s += i + \" \"\n",
    "print(*(s.split()[1:len(sys.argv)]))"
   ]
  },
  {
   "cell_type": "code",
   "execution_count": null,
   "metadata": {},
   "outputs": [],
   "source": []
  }
 ],
 "metadata": {
  "kernelspec": {
   "display_name": "Python 3",
   "language": "python",
   "name": "python3"
  },
  "language_info": {
   "codemirror_mode": {
    "name": "ipython",
    "version": 3
   },
   "file_extension": ".py",
   "mimetype": "text/x-python",
   "name": "python",
   "nbconvert_exporter": "python",
   "pygments_lexer": "ipython3",
   "version": "3.7.5"
  }
 },
 "nbformat": 4,
 "nbformat_minor": 2
}
