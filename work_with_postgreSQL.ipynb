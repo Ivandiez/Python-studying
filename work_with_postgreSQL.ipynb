{
 "cells": [
  {
   "cell_type": "code",
   "execution_count": 50,
   "metadata": {},
   "outputs": [
    {
     "name": "stdout",
     "output_type": "stream",
     "text": [
      "(5, 'heyman                                                          ', '654321                                                          ')\n",
      "(1, 'halloman                                                        ', '123456                                                          ')\n",
      "(2, 'master                                                          ', '654321                                                          ')\n",
      "(3, 'flom                                                            ', '098765                                                          ')\n",
      "(4, 'hamw                                                            ', '567890                                                          ')\n"
     ]
    }
   ],
   "source": [
    "import psycopg2\n",
    "\n",
    "conn = psycopg2.connect(dbname='test_database', user='test_user',\n",
    "                        password='qwerty', host='localhost')\n",
    "cursor = conn.cursor()\n",
    "cursor.execute(\"INSERT INTO users (login, password) VALUES ('heyman', '654321')\")\n",
    "cursor.execute(\"SELECT * FROM users\")\n",
    "for row in cursor:\n",
    "    print(row)\n",
    "cursor.close()\n",
    "conn.close()"
   ]
  },
  {
   "cell_type": "code",
   "execution_count": 49,
   "metadata": {},
   "outputs": [
    {
     "name": "stdout",
     "output_type": "stream",
     "text": [
      "[1, 'halloman                                                        ', '123456                                                          ']\n",
      "[2, 'master                                                          ', '654321                                                          ']\n",
      "[3, 'flom                                                            ', '098765                                                          ']\n",
      "[4, 'hamw                                                            ', '567890                                                          ']\n"
     ]
    }
   ],
   "source": [
    "from psycopg2.extras import DictCursor\n",
    "\n",
    "data_for_db = {\"halloman\": \"123456\", \"master\": \"654321\", \"flom\": \"098765\", \"hamw\": \"567890\"}\n",
    "\n",
    "with psycopg2.connect(dbname='test_database', user='test_user',\n",
    "                        password='qwerty', host='localhost') as conn:\n",
    "    with conn.cursor(cursor_factory=DictCursor) as cursor:\n",
    "        conn.autocommit = True\n",
    "        cursor.execute(\"ALTER SEQUENCE user_ids RESTART WITH 1\")\n",
    "        for key, value in data_for_db.items():\n",
    "            cursor.execute(\"INSERT INTO users (login, password) VALUES (%s, %s)\", (key, value))\n",
    "        #cursor.execute(\"DELETE FROM users\")\n",
    "        cursor.execute(\"SELECT * FROM users\")\n",
    "        for row in cursor:\n",
    "            print(row)"
   ]
  },
  {
   "cell_type": "code",
   "execution_count": 58,
   "metadata": {},
   "outputs": [
    {
     "name": "stdout",
     "output_type": "stream",
     "text": [
      "Database opened successfully!\n",
      "Table created successfully!\n"
     ]
    }
   ],
   "source": [
    "# Creating table students in test_database\n",
    "import psycopg2\n",
    "\n",
    "with psycopg2.connect(database=\"test_database\", user=\"test_user\", password=\"qwerty\",\n",
    "                      host=\"localhost\", port=\"5432\") as conn:\n",
    "    print(\"Database opened successfully!\")\n",
    "    cur = conn.cursor()\n",
    "    # cur.execute(\"DROP TABLE student\")\n",
    "    cur.execute(\"\"\"CREATE TABLE student\n",
    "        (admission INT PRIMARY KEY NOT NULL,\n",
    "         name TEXT NOT NULL,\n",
    "         age INT NOT NULL,\n",
    "         course CHAR(50),\n",
    "         department CHAR(50));\"\"\")\n",
    "    conn.commit()\n",
    "    print(\"Table created successfully!\")"
   ]
  },
  {
   "cell_type": "code",
   "execution_count": 59,
   "metadata": {},
   "outputs": [
    {
     "name": "stdout",
     "output_type": "stream",
     "text": [
      "Database opened successfully!\n",
      "Records inserted successfully!\n"
     ]
    }
   ],
   "source": [
    "# Insert some data to table students\n",
    "import psycopg2\n",
    "\n",
    "data_for_table = {3419: [\"Abel\", 17, \"Computer Science\", \"ICT\"],\n",
    "                  3420: [\"John\", 18, \"Computer Science\", \"ICT\"],\n",
    "                  3421: [\"Joel\", 17, \"Computer Science\", \"ICT\"],\n",
    "                  3422: [\"Mark\", 19, \"Electrical Engineering\", \"Engineering\"],\n",
    "                  3423: [\"Koser\", 17, \"Information Technology\", \"ICT\"]}\n",
    "\n",
    "with psycopg2.connect(database=\"test_database\", user=\"test_user\", password=\"qwerty\",\n",
    "                      host=\"localhost\", port=\"5432\") as conn:\n",
    "    print(\"Database opened successfully!\")\n",
    "    cur = conn.cursor()\n",
    "    for key, value in data_for_table.items():\n",
    "        cur.execute(\"INSERT INTO student (admission, name, age, course, department) VALUES (%s, %s, %s, %s, %s)\",\n",
    "                    (key, value[0], value[1], value[2], value[3]))\n",
    "    conn.commit()\n",
    "    print(\"Records inserted successfully!\")"
   ]
  },
  {
   "cell_type": "code",
   "execution_count": 64,
   "metadata": {},
   "outputs": [
    {
     "name": "stdout",
     "output_type": "stream",
     "text": [
      "Database opened successfully! \n",
      "\n",
      "ADMISSION =  3419\n",
      "NAME =  Abel\n",
      "AGE =  17\n",
      "COURSE =  Computer Science                                  \n",
      "DEPARTMENT =  ICT                                                \n",
      "\n",
      "ADMISSION =  3420\n",
      "NAME =  John\n",
      "AGE =  18\n",
      "COURSE =  Computer Science                                  \n",
      "DEPARTMENT =  ICT                                                \n",
      "\n",
      "ADMISSION =  3421\n",
      "NAME =  Joel\n",
      "AGE =  17\n",
      "COURSE =  Computer Science                                  \n",
      "DEPARTMENT =  ICT                                                \n",
      "\n",
      "ADMISSION =  3422\n",
      "NAME =  Mark\n",
      "AGE =  19\n",
      "COURSE =  Electrical Engineering                            \n",
      "DEPARTMENT =  Engineering                                        \n",
      "\n",
      "ADMISSION =  3423\n",
      "NAME =  Koser\n",
      "AGE =  17\n",
      "COURSE =  Information Technology                            \n",
      "DEPARTMENT =  ICT                                                \n",
      "\n",
      "Operation done successfully!\n"
     ]
    }
   ],
   "source": [
    "# Take some data from table\n",
    "import psycopg2\n",
    "\n",
    "with psycopg2.connect(database=\"test_database\", user=\"test_user\", password=\"qwerty\",\n",
    "                      host=\"localhost\", port=\"5432\") as conn:\n",
    "    print(\"Database opened successfully!\", \"\\n\")\n",
    "    cur = conn.cursor()\n",
    "    cur.execute(\"SELECT admission, name, age, course, department FROM student\")\n",
    "    rows = cur.fetchall() # возвращает список всех строк\n",
    "    for row in rows:\n",
    "        print(\"ADMISSION = \", row[0])\n",
    "        print(\"NAME = \", row[1])\n",
    "        print(\"AGE = \", row[2])\n",
    "        print(\"COURSE = \", row[3])\n",
    "        print(\"DEPARTMENT = \", row[4], \"\\n\")\n",
    "    print(\"Operation done successfully!\")"
   ]
  },
  {
   "cell_type": "code",
   "execution_count": 66,
   "metadata": {},
   "outputs": [
    {
     "name": "stdout",
     "output_type": "stream",
     "text": [
      "Database opened successfully! \n",
      "\n",
      "Total updated rows:  1 \n",
      "\n",
      "ADMISSION =  3419\n",
      "NAME =  Abel\n",
      "AGE =  17\n",
      "COURSE =  Computer Science                                  \n",
      "DEPARTMENT =  ICT                                                \n",
      "\n",
      "ADMISSION =  3421\n",
      "NAME =  Joel\n",
      "AGE =  17\n",
      "COURSE =  Computer Science                                  \n",
      "DEPARTMENT =  ICT                                                \n",
      "\n",
      "ADMISSION =  3422\n",
      "NAME =  Mark\n",
      "AGE =  19\n",
      "COURSE =  Electrical Engineering                            \n",
      "DEPARTMENT =  Engineering                                        \n",
      "\n",
      "ADMISSION =  3423\n",
      "NAME =  Koser\n",
      "AGE =  17\n",
      "COURSE =  Information Technology                            \n",
      "DEPARTMENT =  ICT                                                \n",
      "\n",
      "ADMISSION =  3420\n",
      "NAME =  John\n",
      "AGE =  20\n",
      "COURSE =  Computer Science                                  \n",
      "DEPARTMENT =  ICT                                                \n",
      "\n",
      "Operation done successfully!\n"
     ]
    }
   ],
   "source": [
    "# Update data in table\n",
    "import psycopg2\n",
    "\n",
    "with psycopg2.connect(database=\"test_database\", user=\"test_user\", password=\"qwerty\",\n",
    "                      host=\"localhost\", port=\"5432\") as conn:\n",
    "    print(\"Database opened successfully!\", \"\\n\")\n",
    "    cur = conn.cursor()\n",
    "    cur.execute(\"UPDATE student set age=20 where admission=3420\")\n",
    "    conn.commit()\n",
    "    print(\"Total updated rows: \", cur.rowcount, \"\\n\")\n",
    "    \n",
    "    cur.execute(\"SELECT admission, name, age, course, department FROM student\")\n",
    "    rows = cur.fetchall() # возвращает список всех строк\n",
    "    for row in rows:\n",
    "        print(\"ADMISSION = \", row[0])\n",
    "        print(\"NAME = \", row[1])\n",
    "        print(\"AGE = \", row[2])\n",
    "        print(\"COURSE = \", row[3])\n",
    "        print(\"DEPARTMENT = \", row[4], \"\\n\")\n",
    "    print(\"Operation done successfully!\")"
   ]
  },
  {
   "cell_type": "code",
   "execution_count": 67,
   "metadata": {},
   "outputs": [
    {
     "name": "stdout",
     "output_type": "stream",
     "text": [
      "Database opened successfully! \n",
      "\n",
      "Total deleted rows:  1 \n",
      "\n",
      "ADMISSION =  3419\n",
      "NAME =  Abel\n",
      "AGE =  17\n",
      "COURSE =  Computer Science                                  \n",
      "DEPARTMENT =  ICT                                                \n",
      "\n",
      "ADMISSION =  3421\n",
      "NAME =  Joel\n",
      "AGE =  17\n",
      "COURSE =  Computer Science                                  \n",
      "DEPARTMENT =  ICT                                                \n",
      "\n",
      "ADMISSION =  3422\n",
      "NAME =  Mark\n",
      "AGE =  19\n",
      "COURSE =  Electrical Engineering                            \n",
      "DEPARTMENT =  Engineering                                        \n",
      "\n",
      "ADMISSION =  3423\n",
      "NAME =  Koser\n",
      "AGE =  17\n",
      "COURSE =  Information Technology                            \n",
      "DEPARTMENT =  ICT                                                \n",
      "\n",
      "Operation done successfully!\n"
     ]
    }
   ],
   "source": [
    "# Delete some data from table\n",
    "import psycopg2\n",
    "\n",
    "with psycopg2.connect(database=\"test_database\", user=\"test_user\", password=\"qwerty\",\n",
    "                      host=\"localhost\", port=\"5432\") as conn:\n",
    "    print(\"Database opened successfully!\", \"\\n\")\n",
    "    cur = conn.cursor()\n",
    "    cur.execute(\"DELETE FROM student where admission=3420;\")\n",
    "    conn.commit()\n",
    "    print(\"Total deleted rows: \", cur.rowcount, \"\\n\")\n",
    "    \n",
    "    cur.execute(\"SELECT admission, name, age, course, department FROM student\")\n",
    "    rows = cur.fetchall() # возвращает список всех строк\n",
    "    for row in rows:\n",
    "        print(\"ADMISSION = \", row[0])\n",
    "        print(\"NAME = \", row[1])\n",
    "        print(\"AGE = \", row[2])\n",
    "        print(\"COURSE = \", row[3])\n",
    "        print(\"DEPARTMENT = \", row[4], \"\\n\")\n",
    "    print(\"Operation done successfully!\")"
   ]
  },
  {
   "cell_type": "code",
   "execution_count": null,
   "metadata": {},
   "outputs": [],
   "source": []
  }
 ],
 "metadata": {
  "kernelspec": {
   "display_name": "Python 3",
   "language": "python",
   "name": "python3"
  },
  "language_info": {
   "codemirror_mode": {
    "name": "ipython",
    "version": 3
   },
   "file_extension": ".py",
   "mimetype": "text/x-python",
   "name": "python",
   "nbconvert_exporter": "python",
   "pygments_lexer": "ipython3",
   "version": "3.7.5"
  }
 },
 "nbformat": 4,
 "nbformat_minor": 2
}
