{
 "cells": [
  {
   "cell_type": "code",
   "execution_count": 32,
   "metadata": {},
   "outputs": [
    {
     "name": "stdout",
     "output_type": "stream",
     "text": [
      "xayupt 10\n"
     ]
    }
   ],
   "source": [
    "with open(\"dataset_3363_3.txt\", \"r\") as f:\n",
    "    s = f.read().replace(\"\\n\", \"\").lower().split() # чтение из файла всех слов в один список без \"\\n\"\n",
    "\n",
    "count_w = 1 # счетчик количества повторений слова\n",
    "max = 0 # переменная для сохранения максимального количества повторений слова\n",
    "res = \"\" # переменная для сохранения слова\n",
    "z = {} # сюда добавляем слова с количеством их повторений\n",
    "for word in s:\n",
    "    if word not in z:\n",
    "        z[word] = count_w # если в словаре еще нет слова, то присваиваем кол-во повторов - 1\n",
    "    else:        \n",
    "        z[word] += 1 # иначе добавляем к текущему значению 1\n",
    "\n",
    "\n",
    "for key, value in z.items(): \n",
    "    if value > max: # ищем максимальное значение количества повторений\n",
    "        max = value # сохраняем макс. значение в переменной max\n",
    "        res = key # сохраняем значение ключа - слова\n",
    "print(res, max)\n"
   ]
  },
  {
   "cell_type": "code",
   "execution_count": 33,
   "metadata": {},
   "outputs": [],
   "source": [
    "# другое решение\n",
    "with open('dataset_3363_3.txt') as inf, open('MostPopulWord.txt','w') as ouf:\n",
    "    maxc = 0 \n",
    "    s = inf.read().lower().strip().split()\n",
    "    s.sort() # сортируем по порядку полученный список\n",
    "    for word in s:\n",
    "        counter = s.count(word) # сохраняем количество повторений каждого слова в counter\n",
    "        if counter > maxc: # проверяем, явл. ли counter наибольшим\n",
    "            maxc = counter # если да, то записываем в переменную maxc значение counter\n",
    "            result_word = word # сохраняем слово с макс. повторений\n",
    "    ouf.write(result_word +' ' + str(maxc)) # записываем конечный результат в файл MostPopulWord.txt"
   ]
  },
  {
   "cell_type": "code",
   "execution_count": null,
   "metadata": {},
   "outputs": [],
   "source": []
  }
 ],
 "metadata": {
  "kernelspec": {
   "display_name": "Python 3",
   "language": "python",
   "name": "python3"
  },
  "language_info": {
   "codemirror_mode": {
    "name": "ipython",
    "version": 3
   },
   "file_extension": ".py",
   "mimetype": "text/x-python",
   "name": "python",
   "nbconvert_exporter": "python",
   "pygments_lexer": "ipython3",
   "version": "3.7.5"
  }
 },
 "nbformat": 4,
 "nbformat_minor": 2
}
