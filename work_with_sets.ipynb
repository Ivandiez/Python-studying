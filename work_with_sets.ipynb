{
 "cells": [
  {
   "cell_type": "code",
   "execution_count": 1,
   "metadata": {},
   "outputs": [
    {
     "name": "stdout",
     "output_type": "stream",
     "text": [
      "3\n",
      "1 3 5\n",
      "2\n",
      "3 4\n",
      "1\n",
      "4\n",
      "5\n"
     ]
    }
   ],
   "source": [
    "# Enter your code here. Read input from STDIN. Print output to STDOUT\n",
    "m = int(input())\n",
    "M = set(map(int, input().split()))\n",
    "n = int(input())\n",
    "N = set(map(int, input().split()))\n",
    "res = M.difference(N)\n",
    "res.update(N.difference(M))\n",
    "lst = sorted(res)\n",
    "for i in range(len(lst)):\n",
    "    print(lst[i])"
   ]
  },
  {
   "cell_type": "code",
   "execution_count": 2,
   "metadata": {},
   "outputs": [
    {
     "name": "stdout",
     "output_type": "stream",
     "text": [
      "3 2\n",
      "1 5 3\n",
      "3 1\n",
      "5 7\n",
      "1\n"
     ]
    }
   ],
   "source": [
    "n, m = map(int, input().split())\n",
    "array = list(map(int, input().split()))\n",
    "a = set(map(int, input().split()))\n",
    "b = set(map(int, input().split()))\n",
    "\n",
    "happiness = 0\n",
    "for elem in array:\n",
    "    happiness += elem in a\n",
    "    happiness -= elem in b\n",
    "print(happiness)"
   ]
  },
  {
   "cell_type": "code",
   "execution_count": 3,
   "metadata": {},
   "outputs": [
    {
     "name": "stdout",
     "output_type": "stream",
     "text": [
      "7\n",
      "UK\n",
      "China\n",
      "Russia\n",
      "UK\n",
      "New Zelland\n",
      "Russia\n",
      "Portugal\n",
      "5\n"
     ]
    }
   ],
   "source": [
    "n = int(input())\n",
    "s = set()\n",
    "count = 0\n",
    "\n",
    "for i in range(n):\n",
    "    country = input()\n",
    "    if country not in s:\n",
    "        s.add(country)\n",
    "        count += 1\n",
    "    \n",
    "print(count)"
   ]
  },
  {
   "cell_type": "code",
   "execution_count": 4,
   "metadata": {},
   "outputs": [
    {
     "name": "stdout",
     "output_type": "stream",
     "text": [
      "9\n",
      "1 2 3 4 5 6 7 8 9\n",
      "10\n",
      "pop\n",
      "remove 9\n",
      "discard 9\n",
      "discard 8\n",
      "remove 7\n",
      "pop\n",
      "discard 6\n",
      "remove 5\n",
      "pop\n",
      "discard 5\n",
      "4\n"
     ]
    }
   ],
   "source": [
    "n = int(input())\n",
    "s = set(map(int, input().split()))\n",
    "N = int(input())\n",
    "\n",
    "for i in range(N):\n",
    "    command = input().split()\n",
    "    if command[0] == \"pop\":\n",
    "        s.pop()\n",
    "    if command[0] == \"discard\":\n",
    "        s.discard(int(command[1]))\n",
    "    if command[0] == \"remove\":\n",
    "        s.remove(int(command[1]))\n",
    "\n",
    "print(sum(s))"
   ]
  },
  {
   "cell_type": "code",
   "execution_count": 3,
   "metadata": {},
   "outputs": [
    {
     "name": "stdout",
     "output_type": "stream",
     "text": [
      "9\n",
      "1 2 3 4 5 6 7 8 9\n",
      "9\n",
      "3 5 6 8 9 1 4 7 11\n",
      "10\n",
      "8\n",
      "1\n",
      "2\n"
     ]
    }
   ],
   "source": [
    "n = int(input())\n",
    "set_n = set(map(int, input().split()))\n",
    "b = int(input())\n",
    "set_b = set(map(int, input().split()))\n",
    "\n",
    "print(len(set_n.union(set_b))) # or \n",
    "print(len(set_n.intersection(set_b))) # and\n",
    "print(len(set_n.difference(set_b))) # in n and not in b\n",
    "print(len(set_n.symmetric_difference(set_b))) # xor\n"
   ]
  },
  {
   "cell_type": "code",
   "execution_count": 5,
   "metadata": {},
   "outputs": [
    {
     "name": "stdout",
     "output_type": "stream",
     "text": [
      "16\n",
      " 1 2 3 4 5 6 7 8 9 10 11 12 13 14 24 52\n",
      "4\n",
      " intersection_update 10\n",
      " 2 3 5 6 8 9 1 4 7 11\n",
      " update 2\n",
      " 55 66\n",
      " symmetric_difference_update 5\n",
      " 22 7 35 62 58\n",
      " difference_update 7\n",
      " 11 22 35 55 58 62 66\n",
      "38\n"
     ]
    }
   ],
   "source": [
    "m = int(input())\n",
    "a = set(map(int, input().split()))\n",
    "n = int(input())\n",
    "\n",
    "for i in range(n):\n",
    "    command = input().split()\n",
    "    other_sets = set(map(int, input().split()))\n",
    "    if command[0] == \"update\":\n",
    "        a.update(other_sets)\n",
    "    if command[0] == \"intersection_update\":\n",
    "        a.intersection_update(other_sets)\n",
    "    if command[0] == \"difference_update\":\n",
    "        a.difference_update(other_sets)\n",
    "    if command[0] == \"symmetric_difference_update\":\n",
    "        a.symmetric_difference_update(other_sets)\n",
    "\n",
    "print(sum(a))"
   ]
  },
  {
   "cell_type": "code",
   "execution_count": 9,
   "metadata": {},
   "outputs": [
    {
     "name": "stdout",
     "output_type": "stream",
     "text": [
      "3\n",
      "5\n",
      "1 2 3 5 6\n",
      "9\n",
      "9 8 5 6 3 2 1 4 7\n",
      "True\n",
      "1\n",
      "2\n",
      "5\n",
      "3 6 5 4 1\n",
      "False\n",
      "7\n",
      "1 2 3 5 6 8 9\n",
      "3\n",
      "9 8 2\n",
      "False\n"
     ]
    }
   ],
   "source": [
    "test = int(input())\n",
    "\n",
    "for i in range(test):\n",
    "    el_a = int(input())\n",
    "    a = set(map(int, input().split()))\n",
    "    el_b = int(input())\n",
    "    b = set(map(int, input().split()))\n",
    "    if a.issubset(b): # check that a is subset of b\n",
    "        print(True)\n",
    "    else:\n",
    "        print(False)"
   ]
  },
  {
   "cell_type": "code",
   "execution_count": 8,
   "metadata": {},
   "outputs": [
    {
     "name": "stdout",
     "output_type": "stream",
     "text": [
      "1 2 3 4 5 6 7 8 9 10 11 12 23 45 84 78\n",
      "2\n",
      "1 2 3 4 5\n",
      "100 11 12\n",
      "False\n"
     ]
    }
   ],
   "source": [
    "a = set(input().split())\n",
    "print(all(a > set(input().split()) for _ in range(int(input())))) # check that a is superset of another sets"
   ]
  },
  {
   "cell_type": "code",
   "execution_count": 1,
   "metadata": {},
   "outputs": [
    {
     "name": "stdout",
     "output_type": "stream",
     "text": [
      "5\n",
      "Harry\n",
      "37.21\n",
      "Berry\n",
      "37.21\n",
      "Tina\n",
      "37.2\n",
      "Akriti\n",
      "41\n",
      "Harsh\n",
      "39\n",
      "Berry\n",
      "Harry\n"
     ]
    }
   ],
   "source": [
    "if __name__ == '__main__':\n",
    "    n = int(input())\n",
    "    marksheet = [[input(), float(input())] for _ in range(n)]\n",
    "    \n",
    "    second = sorted(list(set([marks for name, marks in marksheet])))[1]\n",
    "    print(\"\\n\".join([a for a,b in sorted(marksheet) if b == second]))"
   ]
  },
  {
   "cell_type": "code",
   "execution_count": 2,
   "metadata": {},
   "outputs": [
    {
     "name": "stdout",
     "output_type": "stream",
     "text": [
      "3\n",
      "Krishna 67 68 69\n",
      "Arjun 70 98 63\n",
      "Malika 52 56 60\n",
      "Malika\n",
      "56.00\n"
     ]
    }
   ],
   "source": [
    "if __name__ == '__main__':\n",
    "    n = int(input())\n",
    "    student_marks = {}\n",
    "    for _ in range(n):\n",
    "        name, *line = input().split()\n",
    "        scores = list(map(float, line))\n",
    "        student_marks[name] = scores\n",
    "    query_name = input()\n",
    "\n",
    "    for key, value in student_marks.items():\n",
    "        if key == query_name:\n",
    "            print(\"{0:.2f}\".format(sum(value)/len(value)))"
   ]
  },
  {
   "cell_type": "code",
   "execution_count": null,
   "metadata": {},
   "outputs": [],
   "source": []
  }
 ],
 "metadata": {
  "kernelspec": {
   "display_name": "Python 3",
   "language": "python",
   "name": "python3"
  },
  "language_info": {
   "codemirror_mode": {
    "name": "ipython",
    "version": 3
   },
   "file_extension": ".py",
   "mimetype": "text/x-python",
   "name": "python",
   "nbconvert_exporter": "python",
   "pygments_lexer": "ipython3",
   "version": "3.7.5"
  }
 },
 "nbformat": 4,
 "nbformat_minor": 2
}
