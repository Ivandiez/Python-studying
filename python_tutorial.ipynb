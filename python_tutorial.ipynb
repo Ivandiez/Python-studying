{
 "cells": [
  {
   "cell_type": "code",
   "execution_count": 1,
   "metadata": {},
   "outputs": [
    {
     "name": "stdout",
     "output_type": "stream",
     "text": [
      "0 1 1 2 3 5 8 13 21 34 55 89 144 233 377 610 987 "
     ]
    }
   ],
   "source": [
    "# Fibonacci sequence\n",
    "a, b = 0, 1\n",
    "while a < 1000:\n",
    "    print(a, end = \" \")\n",
    "    a, b = b, a+b"
   ]
  },
  {
   "cell_type": "code",
   "execution_count": 2,
   "metadata": {},
   "outputs": [
    {
     "name": "stdout",
     "output_type": "stream",
     "text": [
      "cat 3\n",
      "window 6\n",
      "defenestrate 12\n"
     ]
    }
   ],
   "source": [
    "# iterating words in list\n",
    "words = ['cat', 'window', 'defenestrate']\n",
    "for w in words:\n",
    "    print(w, len(w))"
   ]
  },
  {
   "cell_type": "code",
   "execution_count": 4,
   "metadata": {},
   "outputs": [],
   "source": [
    "# Strategy:  Iterate over a copy\n",
    "users = {\"Artem\": \"active\", \"Ivan\": \"inactive\"}\n",
    "for user, status in users.copy().items():\n",
    "    if status == 'inactive':\n",
    "        del users[user]\n",
    "\n",
    "# Strategy:  Create a new collection\n",
    "active_users = {}\n",
    "for user, status in users.items():\n",
    "    if status == 'active':\n",
    "        active_users[user] = status"
   ]
  },
  {
   "cell_type": "code",
   "execution_count": 6,
   "metadata": {},
   "outputs": [
    {
     "name": "stdout",
     "output_type": "stream",
     "text": [
      "0 Mary\n",
      "1 had\n",
      "2 a\n",
      "3 little\n",
      "4 lamb\n",
      "[(0, 'Mary'), (1, 'had'), (2, 'a'), (3, 'little'), (4, 'lamb')]\n"
     ]
    }
   ],
   "source": [
    "# to iterate over the indices of a sequence\n",
    "a = ['Mary', 'had', 'a', 'little', 'lamb']\n",
    "for i in range(len(a)):\n",
    "    print(i, a[i])\n",
    "\n",
    "# another solution\n",
    "print(list(enumerate(a)))"
   ]
  },
  {
   "cell_type": "code",
   "execution_count": 7,
   "metadata": {},
   "outputs": [
    {
     "name": "stdout",
     "output_type": "stream",
     "text": [
      "2 is a prime number\n",
      "3 is a prime number\n",
      "4 equals 2 * 2\n",
      "5 is a prime number\n",
      "6 equals 2 * 3\n",
      "7 is a prime number\n",
      "8 equals 2 * 4\n",
      "9 equals 3 * 3\n"
     ]
    }
   ],
   "source": [
    "# to find a prime number\n",
    "for n in range(2, 10):\n",
    "    for x in range(2, n):\n",
    "        if n % x == 0:\n",
    "            print(n, 'equals', x, '*', n//x)\n",
    "            break\n",
    "    else:\n",
    "        # loop fell through without finding a factor\n",
    "        print(n, 'is a prime number')"
   ]
  },
  {
   "cell_type": "code",
   "execution_count": 9,
   "metadata": {},
   "outputs": [
    {
     "name": "stdout",
     "output_type": "stream",
     "text": [
      "Found an even number 2\n",
      "Found a number 3\n",
      "Found an even number 4\n",
      "Found a number 5\n",
      "Found an even number 6\n",
      "Found a number 7\n",
      "Found an even number 8\n",
      "Found a number 9\n"
     ]
    }
   ],
   "source": [
    "# find the even numbers\n",
    "for num in range(2, 10):\n",
    "    if num % 2 == 0:\n",
    "        print(\"Found an even number\", num)\n",
    "        continue\n",
    "    print(\"Found a number\", num)"
   ]
  },
  {
   "cell_type": "code",
   "execution_count": 11,
   "metadata": {},
   "outputs": [
    {
     "ename": "KeyboardInterrupt",
     "evalue": "",
     "output_type": "error",
     "traceback": [
      "\u001b[0;31m---------------------------------------------------------------------------\u001b[0m",
      "\u001b[0;31mKeyboardInterrupt\u001b[0m                         Traceback (most recent call last)",
      "\u001b[0;32m<ipython-input-11-99c997c18d71>\u001b[0m in \u001b[0;36m<module>\u001b[0;34m\u001b[0m\n\u001b[1;32m      2\u001b[0m \u001b[0;31m# but the program requires no action\u001b[0m\u001b[0;34m\u001b[0m\u001b[0;34m\u001b[0m\u001b[0;34m\u001b[0m\u001b[0m\n\u001b[1;32m      3\u001b[0m \u001b[0;32mwhile\u001b[0m \u001b[0;32mTrue\u001b[0m\u001b[0;34m:\u001b[0m\u001b[0;34m\u001b[0m\u001b[0;34m\u001b[0m\u001b[0m\n\u001b[0;32m----> 4\u001b[0;31m     \u001b[0;32mpass\u001b[0m \u001b[0;31m# Busy-wait for keyboard interrupt (Ctrl+C)\u001b[0m\u001b[0;34m\u001b[0m\u001b[0;34m\u001b[0m\u001b[0m\n\u001b[0m\u001b[1;32m      5\u001b[0m \u001b[0;34m\u001b[0m\u001b[0m\n\u001b[1;32m      6\u001b[0m \u001b[0;32mclass\u001b[0m \u001b[0mMyEmptyClass\u001b[0m\u001b[0;34m(\u001b[0m\u001b[0;34m)\u001b[0m\u001b[0;34m:\u001b[0m\u001b[0;34m\u001b[0m\u001b[0;34m\u001b[0m\u001b[0m\n",
      "\u001b[0;31mKeyboardInterrupt\u001b[0m: "
     ]
    }
   ],
   "source": [
    "# The pass statement does nothing. It can be used when a statement is required syntactically \n",
    "# but the program requires no action\n",
    "while True:\n",
    "    pass # Busy-wait for keyboard interrupt (Ctrl+C)\n",
    "\n",
    "class MyEmptyClass():\n",
    "    pass\n",
    "\n",
    "def initlog(*args):\n",
    "    pass # remember to implement this"
   ]
  },
  {
   "cell_type": "code",
   "execution_count": 12,
   "metadata": {},
   "outputs": [
    {
     "name": "stdout",
     "output_type": "stream",
     "text": [
      "0 1 1 2 3 5 8 13 21 34 55 89 144 233 377 610 987 1597 \n"
     ]
    }
   ],
   "source": [
    "# function, that returns Fibonacci sequence from 0 to n\n",
    "def fib(n):    # write Fibonacci series up to n\n",
    "    \"\"\"Print a Fibonacci series up to n.\"\"\"\n",
    "    a, b = 0, 1\n",
    "    while a < n:\n",
    "        print(a, end=' ')\n",
    "        a, b = b, a+b\n",
    "    print()\n",
    "\n",
    "# Now call the function we just defined:\n",
    "fib(2000)"
   ]
  },
  {
   "cell_type": "code",
   "execution_count": 14,
   "metadata": {},
   "outputs": [
    {
     "data": {
      "text/plain": [
       "[0, 1, 1, 2, 3, 5, 8, 13, 21, 34, 55, 89, 144, 233, 377, 610, 987, 1597]"
      ]
     },
     "execution_count": 14,
     "metadata": {},
     "output_type": "execute_result"
    }
   ],
   "source": [
    "# function, that returns list of Fibonacci sequence from 0 to n\n",
    "def fib2(n):    # write Fibonacci series up to n\n",
    "    \"\"\"Print a Fibonacci series up to n.\"\"\"\n",
    "    result = []\n",
    "    a, b = 0, 1\n",
    "    while a < n:\n",
    "        result.append(a)\n",
    "        a, b = b, a+b\n",
    "    return result\n",
    "\n",
    "# Now call the function we just defined:\n",
    "f2000 = fib2(2000)\n",
    "f2000"
   ]
  },
  {
   "cell_type": "code",
   "execution_count": 16,
   "metadata": {},
   "outputs": [
    {
     "name": "stdout",
     "output_type": "stream",
     "text": [
      "Do you really want to quit?y\n",
      "OK to overwrite the fileok\n",
      "Please try again!\n",
      "OK to overwrite the fileok\n",
      "Please try again!\n",
      "OK to overwrite the fileok\n"
     ]
    },
    {
     "ename": "ValueError",
     "evalue": "invalid user response",
     "output_type": "error",
     "traceback": [
      "\u001b[0;31m---------------------------------------------------------------------------\u001b[0m",
      "\u001b[0;31mValueError\u001b[0m                                Traceback (most recent call last)",
      "\u001b[0;32m<ipython-input-16-5f8f20c59715>\u001b[0m in \u001b[0;36m<module>\u001b[0;34m\u001b[0m\n\u001b[1;32m     13\u001b[0m \u001b[0;34m\u001b[0m\u001b[0m\n\u001b[1;32m     14\u001b[0m \u001b[0mask_ok\u001b[0m\u001b[0;34m(\u001b[0m\u001b[0;34m\"Do you really want to quit?\"\u001b[0m\u001b[0;34m)\u001b[0m\u001b[0;34m\u001b[0m\u001b[0;34m\u001b[0m\u001b[0m\n\u001b[0;32m---> 15\u001b[0;31m \u001b[0mask_ok\u001b[0m\u001b[0;34m(\u001b[0m\u001b[0;34m\"OK to overwrite the file\"\u001b[0m\u001b[0;34m,\u001b[0m \u001b[0;36m2\u001b[0m\u001b[0;34m)\u001b[0m\u001b[0;34m\u001b[0m\u001b[0;34m\u001b[0m\u001b[0m\n\u001b[0m\u001b[1;32m     16\u001b[0m \u001b[0mask_ok\u001b[0m\u001b[0;34m(\u001b[0m\u001b[0;34m\"OK to overwrite the file\"\u001b[0m\u001b[0;34m,\u001b[0m \u001b[0;36m2\u001b[0m\u001b[0;34m,\u001b[0m \u001b[0;34m\"Come on! Only yes or no!\"\u001b[0m\u001b[0;34m)\u001b[0m\u001b[0;34m\u001b[0m\u001b[0;34m\u001b[0m\u001b[0m\n",
      "\u001b[0;32m<ipython-input-16-5f8f20c59715>\u001b[0m in \u001b[0;36mask_ok\u001b[0;34m(prompt, retries, reminder)\u001b[0m\n\u001b[1;32m      9\u001b[0m         \u001b[0mretries\u001b[0m \u001b[0;34m-=\u001b[0m \u001b[0;36m1\u001b[0m\u001b[0;34m\u001b[0m\u001b[0;34m\u001b[0m\u001b[0m\n\u001b[1;32m     10\u001b[0m         \u001b[0;32mif\u001b[0m \u001b[0mretries\u001b[0m \u001b[0;34m<\u001b[0m \u001b[0;36m0\u001b[0m\u001b[0;34m:\u001b[0m\u001b[0;34m\u001b[0m\u001b[0;34m\u001b[0m\u001b[0m\n\u001b[0;32m---> 11\u001b[0;31m             \u001b[0;32mraise\u001b[0m \u001b[0mValueError\u001b[0m\u001b[0;34m(\u001b[0m\u001b[0;34m\"invalid user response\"\u001b[0m\u001b[0;34m)\u001b[0m\u001b[0;34m\u001b[0m\u001b[0;34m\u001b[0m\u001b[0m\n\u001b[0m\u001b[1;32m     12\u001b[0m         \u001b[0mprint\u001b[0m\u001b[0;34m(\u001b[0m\u001b[0mreminder\u001b[0m\u001b[0;34m)\u001b[0m\u001b[0;34m\u001b[0m\u001b[0;34m\u001b[0m\u001b[0m\n\u001b[1;32m     13\u001b[0m \u001b[0;34m\u001b[0m\u001b[0m\n",
      "\u001b[0;31mValueError\u001b[0m: invalid user response"
     ]
    }
   ],
   "source": [
    "# function with some default parameters\n",
    "def ask_ok(prompt, retries=4, reminder=\"Please try again!\"):\n",
    "    while True:\n",
    "        ok = input(prompt)\n",
    "        if ok in (\"y\", \"ye\", \"yes\"):\n",
    "            return True\n",
    "        if ok in (\"n\", \"no\", \"nop\", \"nope\"):\n",
    "            return False\n",
    "        retries -= 1\n",
    "        if retries < 0:\n",
    "            raise ValueError(\"invalid user response\")\n",
    "        print(reminder)\n",
    "\n",
    "ask_ok(\"Do you really want to quit?\")\n",
    "ask_ok(\"OK to overwrite the file\", 2)\n",
    "ask_ok(\"OK to overwrite the file\", 2, \"Come on! Only yes or no!\")"
   ]
  },
  {
   "cell_type": "code",
   "execution_count": 17,
   "metadata": {},
   "outputs": [
    {
     "name": "stdout",
     "output_type": "stream",
     "text": [
      "5\n"
     ]
    }
   ],
   "source": [
    "# the default value is evaluates only ones\n",
    "i = 5\n",
    "\n",
    "def f(arg=i):\n",
    "    print(arg)\n",
    "\n",
    "i = 6\n",
    "f()"
   ]
  },
  {
   "cell_type": "code",
   "execution_count": 18,
   "metadata": {},
   "outputs": [
    {
     "name": "stdout",
     "output_type": "stream",
     "text": [
      "[1]\n",
      "[1, 2]\n",
      "[1, 2, 3]\n"
     ]
    }
   ],
   "source": [
    "def f(a, L=[]):\n",
    "    L.append(a)\n",
    "    return L\n",
    "\n",
    "print(f(1))\n",
    "print(f(2))\n",
    "print(f(3))"
   ]
  },
  {
   "cell_type": "code",
   "execution_count": 32,
   "metadata": {},
   "outputs": [
    {
     "name": "stdout",
     "output_type": "stream",
     "text": [
      "[1]\n",
      "[2]\n",
      "[3]\n"
     ]
    }
   ],
   "source": [
    "def f(a, L=None):\n",
    "    if L is None:\n",
    "        L = []\n",
    "    L.append(a)\n",
    "    return L\n",
    "\n",
    "print(f(1))\n",
    "print(f(2))\n",
    "print(f(3))"
   ]
  },
  {
   "cell_type": "code",
   "execution_count": 34,
   "metadata": {},
   "outputs": [
    {
     "name": "stdout",
     "output_type": "stream",
     "text": [
      "-- This parrot wouldn't voom if you put 1000 volts through it.\n",
      "-- Lovely plumage, the Norvegian Blue\n",
      "-- It's a stiff !\n",
      "-- This parrot wouldn't voom if you put 1000 volts through it.\n",
      "-- Lovely plumage, the Norvegian Blue\n",
      "-- It's a stiff !\n",
      "-- This parrot wouldn't VOOOOOM if you put 1000000 volts through it.\n",
      "-- Lovely plumage, the Norvegian Blue\n",
      "-- It's a stiff !\n",
      "-- This parrot wouldn't VOOOOOM if you put 1000000 volts through it.\n",
      "-- Lovely plumage, the Norvegian Blue\n",
      "-- It's a stiff !\n",
      "-- This parrot wouldn't jump if you put a million volts through it.\n",
      "-- Lovely plumage, the Norvegian Blue\n",
      "-- It's bereft of life !\n",
      "-- This parrot wouldn't voom if you put a thousand volts through it.\n",
      "-- Lovely plumage, the Norvegian Blue\n",
      "-- It's pushing up the daisies !\n"
     ]
    },
    {
     "ename": "TypeError",
     "evalue": "parrot() got an unexpected keyword argument 'actor'",
     "output_type": "error",
     "traceback": [
      "\u001b[0;31m---------------------------------------------------------------------------\u001b[0m",
      "\u001b[0;31mTypeError\u001b[0m                                 Traceback (most recent call last)",
      "\u001b[0;32m<ipython-input-34-40c9a962b5af>\u001b[0m in \u001b[0;36m<module>\u001b[0;34m\u001b[0m\n\u001b[1;32m     16\u001b[0m \u001b[0;31m#parrot(voltage=5.0, 'dead')  # non-keyword argument after a keyword argument\u001b[0m\u001b[0;34m\u001b[0m\u001b[0;34m\u001b[0m\u001b[0;34m\u001b[0m\u001b[0m\n\u001b[1;32m     17\u001b[0m \u001b[0;31m#parrot(110, voltage=220)     # duplicate value for the same argument\u001b[0m\u001b[0;34m\u001b[0m\u001b[0;34m\u001b[0m\u001b[0;34m\u001b[0m\u001b[0m\n\u001b[0;32m---> 18\u001b[0;31m \u001b[0mparrot\u001b[0m\u001b[0;34m(\u001b[0m\u001b[0mactor\u001b[0m\u001b[0;34m=\u001b[0m\u001b[0;34m'John Cleese'\u001b[0m\u001b[0;34m)\u001b[0m  \u001b[0;31m# unknown keyword argument\u001b[0m\u001b[0;34m\u001b[0m\u001b[0;34m\u001b[0m\u001b[0m\n\u001b[0m",
      "\u001b[0;31mTypeError\u001b[0m: parrot() got an unexpected keyword argument 'actor'"
     ]
    }
   ],
   "source": [
    "# keyword arguments in function\n",
    "def parrot(voltage, state=\"a stiff\", action=\"voom\", type=\"Norvegian Blue\"):\n",
    "    print(\"-- This parrot wouldn't\", action, end=\" \")\n",
    "    print(\"if you put\", voltage, \"volts through it.\")\n",
    "    print(\"-- Lovely plumage, the\", type)\n",
    "    print(\"-- It's\", state, \"!\")\n",
    "    \n",
    "parrot(1000)                                          # 1 positional argument\n",
    "parrot(voltage=1000)                                  # 1 keyword argument\n",
    "parrot(voltage=1000000, action=\"VOOOOOM\")             # 2 keyword arguments\n",
    "parrot(action=\"VOOOOOM\", voltage=1000000)             # 2 keyword arguments\n",
    "parrot(\"a million\", \"bereft of life\", \"jump\")         # 3 keyword arguments\n",
    "parrot(\"a thousand\", state=\"pushing up the daisies\")  # 1 positional, 1 keyword\n",
    "\n",
    "parrot()                     # required argument missing\n",
    "parrot(voltage=5.0, 'dead')  # non-keyword argument after a keyword argument\n",
    "parrot(110, voltage=220)     # duplicate value for the same argument\n",
    "parrot(actor='John Cleese')  # unknown keyword argument"
   ]
  },
  {
   "cell_type": "code",
   "execution_count": 35,
   "metadata": {},
   "outputs": [
    {
     "name": "stdout",
     "output_type": "stream",
     "text": [
      "-- Do you have any Limburger ?\n",
      "-- I'm sorry, we're all out of Limburger\n",
      "It's very runny, sir.\n",
      "It's really very, VERY runny, sir.\n",
      "----------------------------------------\n",
      "shopkeeper : Michael Palin\n",
      "client : John Cleese\n",
      "sketch : Cheese Shop Sketch\n"
     ]
    }
   ],
   "source": [
    "\"\"\"\n",
    "When a final formal parameter of the form **name is present, it receives a dictionary (see Mapping Types — dict) \n",
    "containing all keyword arguments except for those corresponding to a formal parameter. This may be combined with \n",
    "a formal parameter of the form *name (described in the next subsection) which receives a tuple containing \n",
    "the positional arguments beyond the formal parameter list. (*name must occur before **name.) \n",
    "\"\"\"\n",
    "def cheeseshop(kind, *arguments, **keywords):\n",
    "    print(\"-- Do you have any\", kind, \"?\")\n",
    "    print(\"-- I'm sorry, we're all out of\", kind)\n",
    "    for arg in arguments:\n",
    "        print(arg)\n",
    "    print(\"-\" * 40)\n",
    "    for kw in keywords:\n",
    "        print(kw, \":\", keywords[kw])\n",
    "\n",
    "cheeseshop(\"Limburger\", \"It's very runny, sir.\",\n",
    "           \"It's really very, VERY runny, sir.\",\n",
    "           shopkeeper=\"Michael Palin\",\n",
    "           client=\"John Cleese\",\n",
    "           sketch=\"Cheese Shop Sketch\")"
   ]
  },
  {
   "cell_type": "code",
   "execution_count": 36,
   "metadata": {},
   "outputs": [
    {
     "ename": "SyntaxError",
     "evalue": "invalid syntax (<ipython-input-36-5a5ebf8c8932>, line 17)",
     "output_type": "error",
     "traceback": [
      "\u001b[0;36m  File \u001b[0;32m\"<ipython-input-36-5a5ebf8c8932>\"\u001b[0;36m, line \u001b[0;32m17\u001b[0m\n\u001b[0;31m    def pos_only_arg(arg, /):\u001b[0m\n\u001b[0m                          ^\u001b[0m\n\u001b[0;31mSyntaxError\u001b[0m\u001b[0;31m:\u001b[0m invalid syntax\n"
     ]
    }
   ],
   "source": [
    "\"\"\"\n",
    "Function definition\n",
    "\n",
    "def f(pos1, pos2, /, pos_or_kwd, *, kwd1, kwd2):\n",
    "      -----------    ----------     ----------\n",
    "        |             |                  |\n",
    "        |        Positional or keyword   |\n",
    "        |                                - Keyword only\n",
    "         -- Positional only\n",
    " \n",
    "/ and * are not present in the function definition, arguments may be\n",
    "passed to a function by position or by keyword.\n",
    "\"\"\"\n",
    "def standard_arg(arg):\n",
    "    print(arg)\n",
    "\n",
    "def pos_only_arg(arg, /):\n",
    "    print(arg)\n",
    "\n",
    "def kwd_only_arg(*, arg):\n",
    "    print(arg)\n",
    "\n",
    "def combined_example(pos_only, /, standard, *, kwd_only):\n",
    "    print(pos_only, standard, kwd_only)"
   ]
  },
  {
   "cell_type": "code",
   "execution_count": 38,
   "metadata": {},
   "outputs": [
    {
     "data": {
      "text/plain": [
       "'earth/mars/venus'"
      ]
     },
     "execution_count": 38,
     "metadata": {},
     "output_type": "execute_result"
    }
   ],
   "source": [
    "# arbitary argument lists\n",
    "def concat(*args, sep=\"/\"):\n",
    "    return sep.join(args)\n",
    "\n",
    "concat(\"earth\", \"mars\", \"venus\")\n",
    "concat(\"earth\", \"mars\", \"venus\", sep=\".\")"
   ]
  },
  {
   "cell_type": "code",
   "execution_count": 39,
   "metadata": {},
   "outputs": [
    {
     "data": {
      "text/plain": [
       "[3, 4, 5]"
      ]
     },
     "execution_count": 39,
     "metadata": {},
     "output_type": "execute_result"
    }
   ],
   "source": [
    "# unpacking argument lists\n",
    "list(range(3, 6))            # normal call with separate arguments\n",
    "\n",
    "args = [3, 6]\n",
    "list(range(*args))            # call with arguments unpacked from a list"
   ]
  },
  {
   "cell_type": "code",
   "execution_count": 40,
   "metadata": {},
   "outputs": [
    {
     "name": "stdout",
     "output_type": "stream",
     "text": [
      "-- This parrot wouldn't VOOM if you put four million volts through it. E's bleedin' demised !\n"
     ]
    }
   ],
   "source": [
    "# dictionaries can deliver keyword arguments with the **-operator\n",
    "def parrot(voltage, state='a stiff', action='voom'):\n",
    "    print(\"-- This parrot wouldn't\", action, end=' ')\n",
    "    print(\"if you put\", voltage, \"volts through it.\", end=' ')\n",
    "    print(\"E's\", state, \"!\")\n",
    "d = {\"voltage\": \"four million\", \"state\": \"bleedin' demised\", \"action\": \"VOOM\"}\n",
    "parrot(**d)"
   ]
  },
  {
   "cell_type": "code",
   "execution_count": 42,
   "metadata": {},
   "outputs": [
    {
     "name": "stdout",
     "output_type": "stream",
     "text": [
      "42 43\n",
      "[(4, 'four'), (1, 'one'), (3, 'three'), (2, 'two')]\n"
     ]
    }
   ],
   "source": [
    "# lambda expressions\n",
    "\n",
    "def make_incrementor(n):\n",
    "    return lambda x: x + n\n",
    "\n",
    "f = make_incrementor(42)\n",
    "print(f(0), f(1))\n",
    "\n",
    "# small function as an argument\n",
    "pairs = [(1, 'one'), (2, 'two'), (3, 'three'), (4, 'four')]\n",
    "pairs.sort(key=lambda pair: pair[1])\n",
    "print(pairs)"
   ]
  },
  {
   "cell_type": "code",
   "execution_count": 43,
   "metadata": {},
   "outputs": [
    {
     "name": "stdout",
     "output_type": "stream",
     "text": [
      "Do nothing, but document it.\n",
      "\n",
      "    No, really, it doesn't do anything.\n",
      "    \n"
     ]
    }
   ],
   "source": [
    "# Docstrings\n",
    "def my_function():\n",
    "    \"\"\"Do nothing, but document it.\n",
    "\n",
    "    No, really, it doesn't do anything.\n",
    "    \"\"\"\n",
    "    pass\n",
    "\n",
    "print(my_function.__doc__)"
   ]
  },
  {
   "cell_type": "code",
   "execution_count": 44,
   "metadata": {},
   "outputs": [
    {
     "name": "stdout",
     "output_type": "stream",
     "text": [
      "Annotations: {'ham': <class 'str'>, 'eggs': <class 'str'>, 'return': <class 'str'>}\n",
      "Arguments spam eggs\n",
      "spam and eggs\n"
     ]
    }
   ],
   "source": [
    "# Function annotations\n",
    "\"\"\"\n",
    "Annotations are stored in the __annotations__ attribute of the function as a dictionary and have no effect \n",
    "on any other part of the function. Parameter annotations are defined by a colon after the parameter name, \n",
    "followed by an expression evaluating to the value of the annotation. Return annotations are defined by \n",
    "a literal ->, followed by an expression, between the parameter list and the colon denoting the end of \n",
    "the def statement. The following example has a positional argument, a keyword argument, and the return \n",
    "value annotated:\n",
    "\"\"\"\n",
    "def f(ham: str, eggs: str=\"eggs\") -> str:\n",
    "    print(\"Annotations:\", f.__annotations__)\n",
    "    print(\"Arguments\", ham, eggs)\n",
    "    return ham + \" and \" + eggs\n",
    "\n",
    "print(f(\"spam\"))"
   ]
  },
  {
   "cell_type": "code",
   "execution_count": 46,
   "metadata": {},
   "outputs": [
    {
     "name": "stdout",
     "output_type": "stream",
     "text": [
      "2\n",
      "0\n",
      "3\n",
      "6\n",
      "['banana', 'apple', 'kiwi', 'banana', 'pear', 'apple', 'orange']\n",
      "['banana', 'apple', 'kiwi', 'banana', 'pear', 'apple', 'orange', 'grape']\n",
      "['apple', 'apple', 'banana', 'banana', 'grape', 'kiwi', 'orange', 'pear']\n",
      "pear\n"
     ]
    }
   ],
   "source": [
    "# lists methods\n",
    "fruits = [\"orange\", \"apple\", \"pear\", \"banana\", \"kiwi\", \"apple\", \"banana\"]\n",
    "print(fruits.count(\"apple\"))\n",
    "print(fruits.count(\"tangerine\"))\n",
    "print(fruits.index(\"banana\"))\n",
    "print(fruits.index(\"banana\", 4)) # Find next banana starting a position 4\n",
    "fruits.reverse()\n",
    "print(fruits)\n",
    "fruits.append(\"grape\")\n",
    "print(fruits)\n",
    "fruits.sort()\n",
    "print(fruits)\n",
    "print(fruits.pop())\n"
   ]
  },
  {
   "cell_type": "code",
   "execution_count": 50,
   "metadata": {},
   "outputs": [
    {
     "name": "stdout",
     "output_type": "stream",
     "text": [
      "[3, 4, 5, 6, 7]\n",
      "7\n",
      "[3, 4, 5, 6]\n",
      "6\n",
      "5\n",
      "[3, 4]\n"
     ]
    }
   ],
   "source": [
    "# using lists as stacks (last-in, first-out)\n",
    "stack = [3, 4, 5]\n",
    "stack.append(6)\n",
    "stack.append(7)\n",
    "print(stack)\n",
    "print(stack.pop())\n",
    "print(stack)\n",
    "print(stack.pop())\n",
    "print(stack.pop())\n",
    "print(stack)"
   ]
  },
  {
   "cell_type": "code",
   "execution_count": 52,
   "metadata": {},
   "outputs": [
    {
     "name": "stdout",
     "output_type": "stream",
     "text": [
      "Eric\n",
      "John\n",
      "deque(['Michael', 'Terry', 'Graham'])\n"
     ]
    }
   ],
   "source": [
    "# using lists as queues\n",
    "from collections import deque\n",
    "\n",
    "queue = deque([\"Eric\", \"John\", \"Michael\"])\n",
    "queue.append(\"Terry\")   # Terry arrives\n",
    "queue.append(\"Graha(m\")  # Graham arrives\n",
    "print(queue.popleft())  # The first to arrive now leaved\n",
    "print(queue.popleft())  # The second to arrive now leaved\n",
    "print(queue)            # Remainig queue in order of arrival"
   ]
  },
  {
   "cell_type": "code",
   "execution_count": 66,
   "metadata": {},
   "outputs": [
    {
     "name": "stdout",
     "output_type": "stream",
     "text": [
      "[0, 1, 4, 9, 16, 25, 36, 49, 64, 81], time: 0.0007066990074235946\n",
      "[0, 1, 4, 9, 16, 25, 36, 49, 64, 81], time: 0.0015855740057304502\n",
      "[0, 1, 4, 9, 16, 25, 36, 49, 64, 81], time: 0.0023285220086108893\n"
     ]
    }
   ],
   "source": [
    "# list comprehensions\n",
    "# first solution\n",
    "from timeit import default_timer\n",
    "\n",
    "t = default_timer()\n",
    "squares = []\n",
    "for i in range(10):\n",
    "    squares.append(i ** 2)\n",
    "print(f\"{squares}, time: {default_timer() - t}\")\n",
    "# second solution\n",
    "squares1 = list(map(lambda x: x ** 2, range(10)))\n",
    "print(f\"{squares1}, time: {default_timer() - t}\")\n",
    "# third solution - the best\n",
    "squares2 = [i ** 2 for i in range(10)]\n",
    "print(f\"{squares2}, time: {default_timer() - t}\")"
   ]
  },
  {
   "cell_type": "code",
   "execution_count": 68,
   "metadata": {},
   "outputs": [
    {
     "name": "stdout",
     "output_type": "stream",
     "text": [
      "[(1, 3), (1, 4), (2, 3), (2, 1), (2, 4), (3, 1), (3, 4)]\n",
      "[(1, 3), (1, 4), (2, 3), (2, 1), (2, 4), (3, 1), (3, 4)]\n"
     ]
    }
   ],
   "source": [
    "# list comprehensions for tuple\n",
    "print([(x,y) for x in [1, 2, 3] for y in [3, 1, 4] if x != y])\n",
    "# this is equivalent to\n",
    "combs = []\n",
    "for x in [1, 2, 3]:\n",
    "    for y in [3, 1, 4]:\n",
    "        if x != y:\n",
    "            combs.append((x, y))\n",
    "print(combs)"
   ]
  },
  {
   "cell_type": "code",
   "execution_count": 70,
   "metadata": {},
   "outputs": [
    {
     "name": "stdout",
     "output_type": "stream",
     "text": [
      "[-8, -4, 0, 4, 8]\n",
      "[0, 2, 4]\n",
      "[4, 2, 0, 2, 4]\n",
      "['banana', 'loganberry', 'passion fruit']\n",
      "[(0, 0), (1, 1), (2, 4), (3, 9), (4, 16), (5, 25)]\n",
      "[1, 2, 3, 4, 5, 6, 7, 8, 9]\n",
      "['3.1', '3.14', '3.142', '3.1416', '3.14159']\n"
     ]
    }
   ],
   "source": [
    "# more list comprehensions\n",
    "\n",
    "vec = [-4, -2, 0, 2, 4]\n",
    "# create a new list with the values doubled\n",
    "print([x*2 for x in vec])\n",
    "# filter the list to exclude negative numbers\n",
    "print([x for x in vec if x >= 0])\n",
    "# apply a function to all the elements\n",
    "print([abs(x) for x in vec])\n",
    "# call a method on each element\n",
    "freshfruit = ['  banana', '  loganberry ', 'passion fruit  ']\n",
    "print([weapon.strip() for weapon in freshfruit])\n",
    "# create a list of 2-tuples like (number, square)\n",
    "print([(x, x**2) for x in range(6)])\n",
    "# the tuple must be parenthesized, otherwise an error is raised\n",
    "# print([x, x**2 for x in range(6)])\n",
    "# flatten a list using a listcomp with two 'for'\n",
    "vec = [[1,2,3], [4,5,6], [7,8,9]]\n",
    "print([num for elem in vec for num in elem])\n",
    "\n",
    "# List comprehensions can contain complex expressions and nested functions:\n",
    "from math import pi\n",
    "print([str(round(pi, i)) for i in range(1, 6)])"
   ]
  },
  {
   "cell_type": "code",
   "execution_count": 74,
   "metadata": {},
   "outputs": [
    {
     "name": "stdout",
     "output_type": "stream",
     "text": [
      "[[1, 5, 9], [2, 6, 10], [3, 7, 11], [4, 8, 12]]\n",
      "[[1, 5, 9], [2, 6, 10], [3, 7, 11], [4, 8, 12]]\n",
      "[(1, 5, 9), (2, 6, 10), (3, 7, 11), (4, 8, 12)]\n"
     ]
    }
   ],
   "source": [
    "# Nested list comprehensions (вложенные)\n",
    "matrix = [[1, 2, 3, 4],\n",
    "          [5, 6, 7, 8],\n",
    "          [9, 10, 11, 12]\n",
    "]\n",
    "\n",
    "print([[row[i] for row in matrix] for i in range(4)])\n",
    "# this equal to\n",
    "transposed = []\n",
    "for i in range(4):\n",
    "    transposed.append([row[i] for row in matrix])\n",
    "print(transposed)\n",
    "\n",
    "# we can use built-in functions\n",
    "print(list(zip(*matrix)))"
   ]
  },
  {
   "cell_type": "code",
   "execution_count": 78,
   "metadata": {},
   "outputs": [
    {
     "name": "stdout",
     "output_type": "stream",
     "text": [
      "[1, 0.66, 1.34, 2, 54]\n",
      "[1, 0.66, 54]\n",
      "[]\n"
     ]
    },
    {
     "ename": "NameError",
     "evalue": "name 'a' is not defined",
     "output_type": "error",
     "traceback": [
      "\u001b[0;31m---------------------------------------------------------------------------\u001b[0m",
      "\u001b[0;31mNameError\u001b[0m                                 Traceback (most recent call last)",
      "\u001b[0;32m<ipython-input-78-1c7006d016a4>\u001b[0m in \u001b[0;36m<module>\u001b[0;34m\u001b[0m\n\u001b[1;32m      8\u001b[0m \u001b[0mprint\u001b[0m\u001b[0;34m(\u001b[0m\u001b[0ma\u001b[0m\u001b[0;34m)\u001b[0m\u001b[0;34m\u001b[0m\u001b[0;34m\u001b[0m\u001b[0m\n\u001b[1;32m      9\u001b[0m \u001b[0;32mdel\u001b[0m \u001b[0ma\u001b[0m\u001b[0;34m\u001b[0m\u001b[0;34m\u001b[0m\u001b[0m\n\u001b[0;32m---> 10\u001b[0;31m \u001b[0mprint\u001b[0m\u001b[0;34m(\u001b[0m\u001b[0ma\u001b[0m\u001b[0;34m)\u001b[0m\u001b[0;34m\u001b[0m\u001b[0;34m\u001b[0m\u001b[0m\n\u001b[0m",
      "\u001b[0;31mNameError\u001b[0m: name 'a' is not defined"
     ]
    }
   ],
   "source": [
    "# using del for lists\n",
    "a = [-1, 1, 0.66, 1.34, 2,54]\n",
    "del a[0]\n",
    "print(a)\n",
    "del a[2:4]\n",
    "print(a)\n",
    "del a[:]\n",
    "print(a)\n",
    "del a\n",
    "print(a)"
   ]
  },
  {
   "cell_type": "code",
   "execution_count": 83,
   "metadata": {},
   "outputs": [
    {
     "name": "stdout",
     "output_type": "stream",
     "text": [
      "12345\n",
      "(12345, 54321, 'hello!')\n",
      "((12345, 54321, 'hello!'), (1, 2, 3, 4, 5))\n",
      "([1, 2, 3], [3, 2, 1])\n",
      "0\n",
      "1\n",
      "('hello',)\n",
      "12345 54321 hello!\n"
     ]
    }
   ],
   "source": [
    "# Tupple and sequence\n",
    "t = 12345, 54321, 'hello!' # tuple packing\n",
    "print(t[0])\n",
    "print(t)\n",
    "u = t, (1, 2, 3, 4, 5)\n",
    "print(u)\n",
    "v = ([1, 2, 3], [3, 2, 1])\n",
    "print(v)\n",
    "\n",
    "empty = ()\n",
    "singleton = \"hello\", \n",
    "print(len(empty))\n",
    "print(len(singleton))\n",
    "print(singleton)\n",
    "\n",
    "x, y, z = t # sequence unpacking\n",
    "print(x, y, z)"
   ]
  },
  {
   "cell_type": "code",
   "execution_count": 91,
   "metadata": {},
   "outputs": [
    {
     "name": "stdout",
     "output_type": "stream",
     "text": [
      "{'banana', 'pear', 'apple', 'orange'}\n",
      "True\n",
      "False\n",
      "{'d', 'c', 'a', 'r', 'b'}\n",
      "{'d', 'b', 'r'}\n",
      "{'z', 'd', 'c', 'a', 'm', 'r', 'b', 'l'}\n",
      "{'c', 'a'}\n",
      "{'r', 'b', 'm', 'z', 'd', 'l'}\n",
      "{'d', 'r'}\n"
     ]
    }
   ],
   "source": [
    "# Sets\n",
    "basket = {'apple', 'orange', 'apple', 'pear', 'orange', 'banana'}\n",
    "print(basket)                   # show that duplicates have been removed\n",
    "print(\"orange\" in basket)       # fast membership testing\n",
    "print(\"crabgrass\" in basket)\n",
    "\n",
    "# Demonstrate set operations on unique letters from two words\n",
    "a = set('abracadabra')\n",
    "b = set('alacazam')\n",
    "print(a)                        # unique letters in a\n",
    "print(a - b)                    # letters in a but not in b\n",
    "print(a | b)                    # letters in a or b or both\n",
    "print(a & b)                    # letters in both a and b\n",
    "print(a ^ b)                    # letters in a or b but not both\n",
    "\n",
    "#set comprehension\n",
    "a = {x for x in 'abracadabra' if x not in 'abc'}\n",
    "print(a)"
   ]
  },
  {
   "cell_type": "code",
   "execution_count": 103,
   "metadata": {},
   "outputs": [
    {
     "name": "stdout",
     "output_type": "stream",
     "text": [
      "{'jack': 4098, 'sape': 4139, 'guido': 4127}\n",
      "4098\n",
      "{'jack': 4098, 'guido': 4127, 'irv': 4127}\n",
      "['jack', 'guido', 'irv']\n",
      "['guido', 'irv', 'jack']\n",
      "True\n",
      "False\n",
      "{'sape': 4139, 'jack': 4098, 'guido': 4127}\n",
      "{2: 4, 4: 16, 6: 36}\n",
      "{'sape': 4139, 'jack': 4098, 'guido': 4127}\n"
     ]
    }
   ],
   "source": [
    "# Dictionaries (in other languages - associative memories or associative arrays)\n",
    "tel = {\"jack\": 4098, \"sape\": 4139}\n",
    "tel[\"guido\"] = 4127\n",
    "print(tel)\n",
    "print(tel['jack'])\n",
    "del tel['sape']\n",
    "tel['irv'] = 4127\n",
    "print(tel)\n",
    "print(list(tel))\n",
    "print(sorted(tel))\n",
    "print(\"guido\" in tel)\n",
    "print(\"jack\" not in tel)\n",
    "\n",
    "# The dict() constructor builds dictionaries directly from sequences of key-value pairs\n",
    "print(dict([('sape', 4139), ('jack', 4098), ('guido', 4127)]))\n",
    "\n",
    "# dict comprehensions can be used to create dictionaries from arbitrary key and value expressions\n",
    "print({x:x**2 for x in (2, 4, 6)})\n",
    "\n",
    "# When the keys are simple strings, it is sometimes easier to specify pairs using keyword arguments\n",
    "print(dict(sape=4139, jack=4098, guido=4127))"
   ]
  },
  {
   "cell_type": "code",
   "execution_count": 110,
   "metadata": {},
   "outputs": [
    {
     "name": "stdout",
     "output_type": "stream",
     "text": [
      "gallahad the pure\n",
      "robin the brave\n",
      "0 tic\n",
      "1 tac\n",
      "2 toe\n",
      "What is your name? It is lancelot\n",
      "What is your quest? It is the holy grail\n",
      "What is your favorite color? It is blue\n",
      "9\n",
      "7\n",
      "5\n",
      "3\n",
      "1\n",
      "apple\n",
      "banana\n",
      "orange\n",
      "pear\n",
      "[56.2, 51.7, 55.3, 52.5, 47.8]\n"
     ]
    }
   ],
   "source": [
    "# Looping technics\n",
    "\n",
    "# When looping through dictionaries, the key and corresponding \n",
    "# value can be retrieved at the same time using the items() method\n",
    "knights = {\"gallahad\": \"the pure\", \"robin\": \"the brave\"}\n",
    "for k, v in knights.items():\n",
    "    print(k, v)\n",
    "    \n",
    "# When looping through a sequence, the position index and corresponding \n",
    "# value can be retrieved at the same time using the enumerate() function\n",
    "for i, v in enumerate([\"tic\", \"tac\", \"toe\"]):\n",
    "    print(i, v)\n",
    "\n",
    "# To loop over two or more sequences at the same time, the entries can be paired with the zip() function\n",
    "questions = [\"name\", \"quest\", \"favorite color\"]\n",
    "answers = [\"lancelot\", \"the holy grail\", \"blue\"]\n",
    "for q, a in zip(questions, answers):\n",
    "    print(\"What is your {0}? It is {1}\".format(q, a))\n",
    "    \n",
    "# To loop over a sequence in reverse, first specify the sequence in a forward \n",
    "# direction and then call the reversed() function\n",
    "for i in reversed(range(1, 10, 2)):\n",
    "    print(i)\n",
    "    \n",
    "# To loop over a sequence in sorted order, use the sorted() function which \n",
    "# returns a new sorted list while leaving the source unaltered\n",
    "basket = [\"apple\", \"orange\", \"apple\", \"pear\", \"orange\", \"banana\"]\n",
    "for f in sorted(set(basket)):\n",
    "    print(f)\n",
    "    \n",
    "# It is sometimes tempting to change a list while you are looping over it; \n",
    "# however, it is often simpler and safer to create a new list instead\n",
    "import math\n",
    "raw_data = [56.2, float(\"NaN\"), 51.7, 55.3, 52.5, float(\"NaN\"), 47.8]\n",
    "filtered_data = []\n",
    "for value in raw_data:\n",
    "    if not math.isnan(value):\n",
    "        filtered_data.append(value)\n",
    "print(filtered_data)"
   ]
  },
  {
   "cell_type": "code",
   "execution_count": 113,
   "metadata": {},
   "outputs": [
    {
     "name": "stdout",
     "output_type": "stream",
     "text": [
      "Trondheim\n",
      "True\n",
      "True\n",
      "True\n",
      "True\n",
      "True\n",
      "True\n",
      "True\n"
     ]
    }
   ],
   "source": [
    "# Conditions\n",
    "string1, string2, string3 = \"\", \"Trondheim\", \"Hammer Dance\"\n",
    "non_null = string1 or string2 or string3\n",
    "print(non_null)\n",
    "\n",
    "print((1, 2, 3) < (1, 2, 4))\n",
    "print([1, 2, 3] < [1, 2, 4])\n",
    "print('ABC' < 'C' < 'Pascal' < 'Python')\n",
    "print((1, 2, 3, 4) < (1, 2, 4))\n",
    "print((1, 2) < (1, 2, -1))\n",
    "print((1, 2, 3) == (1.0, 2.0, 3.0))\n",
    "print((1, 2, ('aa', 'ab')) < (1, 2, ('abc', 'a'), 4))"
   ]
  },
  {
   "cell_type": "code",
   "execution_count": 125,
   "metadata": {},
   "outputs": [
    {
     "ename": "SyntaxError",
     "evalue": "invalid syntax (<ipython-input-125-8f409c001553>, line 27)",
     "output_type": "error",
     "traceback": [
      "\u001b[0;36m  File \u001b[0;32m\"<ipython-input-125-8f409c001553>\"\u001b[0;36m, line \u001b[0;32m27\u001b[0m\n\u001b[0;31m    python fibo.py 50\u001b[0m\n\u001b[0m              ^\u001b[0m\n\u001b[0;31mSyntaxError\u001b[0m\u001b[0;31m:\u001b[0m invalid syntax\n"
     ]
    }
   ],
   "source": [
    "import fibo\n",
    "\n",
    "fibo.fib(1000)\n",
    "print(fibo.fib2(100))\n",
    "print(fibo.__name__)\n",
    "fib = fibo.fib\n",
    "print(fib(500))\n",
    "\n",
    "# from fibo import fib, fib2\n",
    "# fib(500)\n",
    "# 0 1 1 2 3 5 8 13 21 34 55 89 144 233 377\n",
    "\n",
    "# from fibo import *\n",
    "# fib(500)\n",
    "# 0 1 1 2 3 5 8 13 21 34 55 89 144 233 377\n",
    "\n",
    "# import fibo as fib\n",
    "# fibo.fib(500)\n",
    "# 0 1 1 2 3 5 8 13 21 34 55 89 144 233 377\n",
    "\n",
    "# from fibo import fib as fibonacci\n",
    "# fibonacci(500)\n",
    "# 0 1 1 2 3 5 8 13 21 34 55 89 144 233 377\n",
    "\n",
    "# if imported script update,  importlib.reload() - to reaload the script\n",
    "\n",
    "# if __name__ == \"__main__\":\n",
    "    # import sys\n",
    "    # fib(int(sys.argv[1]))\n",
    "# python fibo.py 50\n",
    "# 0 0 1 2 3 5 8 13 21 34"
   ]
  },
  {
   "cell_type": "code",
   "execution_count": 126,
   "metadata": {},
   "outputs": [
    {
     "name": "stdout",
     "output_type": "stream",
     "text": [
      "In : \n",
      "...: \n"
     ]
    }
   ],
   "source": [
    "# Python Standard Library\n",
    "import sys\n",
    "\n",
    "print(sys.ps1)\n",
    "print(sys.ps2)\n",
    "# sys.path.append('/ufs/Ivan/lib/python')"
   ]
  },
  {
   "cell_type": "code",
   "execution_count": 135,
   "metadata": {},
   "outputs": [
    {
     "name": "stdout",
     "output_type": "stream",
     "text": [
      "['__builtins__', '__cached__', '__doc__', '__file__', '__loader__', '__name__', '__package__', '__spec__', 'fib', 'fib2']\n",
      "['__breakpointhook__', '__displayhook__', '__doc__', '__excepthook__', '__interactivehook__', '__loader__', '__name__', '__package__', '__spec__', '__stderr__', '__stdin__', '__stdout__', '_clear_type_cache', '_current_frames', '_debugmallocstats', '_framework', '_getframe', '_git', '_home', '_xoptions', 'abiflags', 'api_version', 'argv', 'base_exec_prefix', 'base_prefix', 'breakpointhook', 'builtin_module_names', 'byteorder', 'call_tracing', 'callstats', 'copyright', 'displayhook', 'dont_write_bytecode', 'exc_info', 'excepthook', 'exec_prefix', 'executable', 'exit', 'flags', 'float_info', 'float_repr_style', 'get_asyncgen_hooks', 'get_coroutine_origin_tracking_depth', 'get_coroutine_wrapper', 'getallocatedblocks', 'getcheckinterval', 'getdefaultencoding', 'getdlopenflags', 'getfilesystemencodeerrors', 'getfilesystemencoding', 'getprofile', 'getrecursionlimit', 'getrefcount', 'getsizeof', 'getswitchinterval', 'gettrace', 'hash_info', 'hexversion', 'implementation', 'int_info', 'intern', 'is_finalizing', 'last_traceback', 'last_type', 'last_value', 'maxsize', 'maxunicode', 'meta_path', 'modules', 'path', 'path_hooks', 'path_importer_cache', 'platform', 'prefix', 'ps1', 'ps2', 'ps3', 'set_asyncgen_hooks', 'set_coroutine_origin_tracking_depth', 'set_coroutine_wrapper', 'setcheckinterval', 'setdlopenflags', 'setprofile', 'setrecursionlimit', 'setswitchinterval', 'settrace', 'stderr', 'stdin', 'stdout', 'thread_info', 'version', 'version_info', 'warnoptions']\n",
      "['In', 'Out', '_', '_121', '_127', '_130', '_14', '_15', '_37', '_38', '_39', '_73', '__', '___', '__builtin__', '__builtins__', '__doc__', '__loader__', '__name__', '__package__', '__spec__', '_dh', '_i', '_i1', '_i10', '_i100', '_i101', '_i102', '_i103', '_i104', '_i105', '_i106', '_i107', '_i108', '_i109', '_i11', '_i110', '_i111', '_i112', '_i113', '_i114', '_i115', '_i116', '_i117', '_i118', '_i119', '_i12', '_i120', '_i121', '_i122', '_i123', '_i124', '_i125', '_i126', '_i127', '_i128', '_i129', '_i13', '_i130', '_i131', '_i132', '_i133', '_i134', '_i135', '_i14', '_i15', '_i16', '_i17', '_i18', '_i19', '_i2', '_i20', '_i21', '_i22', '_i23', '_i24', '_i25', '_i26', '_i27', '_i28', '_i29', '_i3', '_i30', '_i31', '_i32', '_i33', '_i34', '_i35', '_i36', '_i37', '_i38', '_i39', '_i4', '_i40', '_i41', '_i42', '_i43', '_i44', '_i45', '_i46', '_i47', '_i48', '_i49', '_i5', '_i50', '_i51', '_i52', '_i53', '_i54', '_i55', '_i56', '_i57', '_i58', '_i59', '_i6', '_i60', '_i61', '_i62', '_i63', '_i64', '_i65', '_i66', '_i67', '_i68', '_i69', '_i7', '_i70', '_i71', '_i72', '_i73', '_i74', '_i75', '_i76', '_i77', '_i78', '_i79', '_i8', '_i80', '_i81', '_i82', '_i83', '_i84', '_i85', '_i86', '_i87', '_i88', '_i89', '_i9', '_i90', '_i91', '_i92', '_i93', '_i94', '_i95', '_i96', '_i97', '_i98', '_i99', '_ih', '_ii', '_iii', '_oh', 'a', 'active_users', 'answers', 'args', 'ask_ok', 'b', 'basket', 'builtins', 'cheeseshop', 'combs', 'concat', 'd', 'default_timer', 'deque', 'empty', 'exit', 'f', 'f2000', 'fib', 'fib2', 'fibo', 'filtered_data', 'freshfruit', 'fruits', 'get_ipython', 'i', 'k', 'knights', 'make_incrementor', 'math', 'matrix', 'my_function', 'n', 'non_null', 'num', 'pairs', 'parrot', 'pi', 'q', 'questions', 'queue', 'quit', 'raw_data', 'singleton', 'squares', 'squares1', 'squares2', 'stack', 'status', 'string1', 'string2', 'string3', 'sys', 't', 'tel', 'transposed', 'u', 'user', 'users', 'v', 'value', 'vec', 'w', 'words', 'x', 'y', 'z']\n",
      "['ArithmeticError', 'AssertionError', 'AttributeError', 'BaseException', 'BlockingIOError', 'BrokenPipeError', 'BufferError', 'BytesWarning', 'ChildProcessError', 'ConnectionAbortedError', 'ConnectionError', 'ConnectionRefusedError', 'ConnectionResetError', 'DeprecationWarning', 'EOFError', 'Ellipsis', 'EnvironmentError', 'Exception', 'False', 'FileExistsError', 'FileNotFoundError', 'FloatingPointError', 'FutureWarning', 'GeneratorExit', 'IOError', 'ImportError', 'ImportWarning', 'IndentationError', 'IndexError', 'InterruptedError', 'IsADirectoryError', 'KeyError', 'KeyboardInterrupt', 'LookupError', 'MemoryError', 'ModuleNotFoundError', 'NameError', 'None', 'NotADirectoryError', 'NotImplemented', 'NotImplementedError', 'OSError', 'OverflowError', 'PendingDeprecationWarning', 'PermissionError', 'ProcessLookupError', 'RecursionError', 'ReferenceError', 'ResourceWarning', 'RuntimeError', 'RuntimeWarning', 'StopAsyncIteration', 'StopIteration', 'SyntaxError', 'SyntaxWarning', 'SystemError', 'SystemExit', 'TabError', 'TimeoutError', 'True', 'TypeError', 'UnboundLocalError', 'UnicodeDecodeError', 'UnicodeEncodeError', 'UnicodeError', 'UnicodeTranslateError', 'UnicodeWarning', 'UserWarning', 'ValueError', 'Warning', 'ZeroDivisionError', '__IPYTHON__', '__build_class__', '__debug__', '__doc__', '__import__', '__loader__', '__name__', '__package__', '__spec__', 'abs', 'all', 'any', 'ascii', 'bin', 'bool', 'breakpoint', 'bytearray', 'bytes', 'callable', 'chr', 'classmethod', 'compile', 'complex', 'copyright', 'credits', 'delattr', 'dict', 'dir', 'display', 'divmod', 'enumerate', 'eval', 'exec', 'filter', 'float', 'format', 'frozenset', 'get_ipython', 'getattr', 'globals', 'hasattr', 'hash', 'help', 'hex', 'id', 'input', 'int', 'isinstance', 'issubclass', 'iter', 'len', 'license', 'list', 'locals', 'map', 'max', 'memoryview', 'min', 'next', 'object', 'oct', 'open', 'ord', 'pow', 'print', 'property', 'range', 'repr', 'reversed', 'round', 'set', 'setattr', 'slice', 'sorted', 'staticmethod', 'str', 'sum', 'super', 'tuple', 'type', 'vars', 'zip']\n"
     ]
    }
   ],
   "source": [
    "# The dir() function\n",
    "# The built-in function dir() is used to find out which names a module defines. It returns a sorted list of strings:\n",
    "\n",
    "print(dir(fibo))\n",
    "print(dir(sys))\n",
    "\n",
    "a = [1, 2, 3, 4, 5]\n",
    "fib = fibo.fib\n",
    "print(dir())\n",
    "\n",
    "# dir() does not list the names of built-in functions and variables. If you want a list of those, they are defined in the standard module builtins:\n",
    "import builtins\n",
    "\n",
    "print(dir(builtins))"
   ]
  },
  {
   "cell_type": "code",
   "execution_count": 136,
   "metadata": {},
   "outputs": [
    {
     "data": {
      "text/plain": [
       "'\\nsound/                          Top-level package\\n      __init__.py               Initialize the sound package\\n      formats/                  Subpackage for file format conversions\\n              __init__.py\\n              wavread.py\\n              wavwrite.py\\n              aiffread.py\\n              aiffwrite.py\\n              auread.py\\n              auwrite.py\\n              ...\\n      effects/                  Subpackage for sound effects\\n              __init__.py\\n              echo.py\\n              surround.py\\n              reverse.py\\n              ...\\n      filters/                  Subpackage for filters\\n              __init__.py\\n              equalizer.py\\n              vocoder.py\\n              karaoke.py\\n              ...\\n              \\nThe __init__.py files are required to make Python treat directories containing the file as packages. \\nThis prevents directories with a common name, such as string, unintentionally hiding valid modules that \\noccur later on the module search path. In the simplest case, __init__.py can just be an empty file, but \\nit can also execute initialization code for the package or set the __all__ variable, described later.\\n'"
      ]
     },
     "execution_count": 136,
     "metadata": {},
     "output_type": "execute_result"
    }
   ],
   "source": [
    "# Packages.\n",
    "# Packages are a way of structuring Python’s module namespace by using “dotted module names”. \n",
    "\"\"\"\n",
    "sound/                          Top-level package\n",
    "      __init__.py               Initialize the sound package\n",
    "      formats/                  Subpackage for file format conversions\n",
    "              __init__.py\n",
    "              wavread.py\n",
    "              wavwrite.py\n",
    "              aiffread.py\n",
    "              aiffwrite.py\n",
    "              auread.py\n",
    "              auwrite.py\n",
    "              ...\n",
    "      effects/                  Subpackage for sound effects\n",
    "              __init__.py\n",
    "              echo.py\n",
    "              surround.py\n",
    "              reverse.py\n",
    "              ...\n",
    "      filters/                  Subpackage for filters\n",
    "              __init__.py\n",
    "              equalizer.py\n",
    "              vocoder.py\n",
    "              karaoke.py\n",
    "              ...\n",
    "              \n",
    "The __init__.py files are required to make Python treat directories containing the file as packages. \n",
    "This prevents directories with a common name, such as string, unintentionally hiding valid modules that \n",
    "occur later on the module search path. In the simplest case, __init__.py can just be an empty file, but \n",
    "it can also execute initialization code for the package or set the __all__ variable, described later.\n",
    "\"\"\"\n",
    "\n",
    "# import sound.effects.echo\n",
    "# sound.effects.echo.echofilter(input, output, delay=0.7, atten=4)\n",
    "\n",
    "# alternative:\n",
    "# from sound.effects import echo\n",
    "# echo.echofilter(input, output, delay=0.7, atten=4)\n",
    "\n",
    "# another:\n",
    "# from sound.effects.echo import echofilter\n",
    "# echofilter(input, output, delay=0.7, atten=4)"
   ]
  },
  {
   "cell_type": "code",
   "execution_count": 142,
   "metadata": {},
   "outputs": [
    {
     "name": "stdout",
     "output_type": "stream",
     "text": [
      "Results of the 2016 Referendum\n",
      " 42572654 YES votes 49.67%\n",
      "Hello, world.\n",
      "'Hello, world.'\n",
      "0.14285714285714285\n",
      "The value of x is 32.5, and y is 40000...\n",
      "'hello, world\\n'\n",
      "(32.5, 40000, ('spam', 'eggs'))\n"
     ]
    }
   ],
   "source": [
    "# Output formatting\n",
    "# Expression statements, print(), write() to the file, sys.stdout - standard output file can be referenced by this.\n",
    "year = 2016\n",
    "event = \"Referendum\"\n",
    "print(f\"Results of the {year} {event}\")\n",
    "# or we can use\n",
    "yes_votes = 42_572_654\n",
    "no_votes = 43_132_495\n",
    "percentage = yes_votes / (yes_votes + no_votes)\n",
    "print(\"{:-9} YES votes {:2.2%}\".format(yes_votes, percentage))\n",
    "\n",
    "# to convert to string we can use repr() or str()\n",
    "\"\"\"\n",
    "The str() function is meant to return representations of values which are fairly human-readable, \n",
    "while repr() is meant to generate representations which can be read by the interpreter (or will force \n",
    "a SyntaxError if there is no equivalent syntax). For objects which don’t have a particular representation \n",
    "for human consumption, str() will return the same value as repr(). \n",
    "\"\"\"\n",
    "\n",
    "s = 'Hello, world.'\n",
    "print(str(s))\n",
    "print(repr(s))\n",
    "print(str(1/7))\n",
    "x = 10 * 3.25\n",
    "y = 200 * 200\n",
    "s = 'The value of x is ' + repr(x) + ', and y is ' + repr(y) + '...'\n",
    "print(s)\n",
    "# The repr() of a string adds string quotes and backslashes:\n",
    "hello = 'hello, world\\n'\n",
    "hellos = repr(hello)\n",
    "print(hellos)\n",
    "# The argument to repr() may be any Python object:\n",
    "print(repr((x, y, ('spam', 'eggs'))))"
   ]
  },
  {
   "cell_type": "code",
   "execution_count": 148,
   "metadata": {},
   "outputs": [
    {
     "name": "stdout",
     "output_type": "stream",
     "text": [
      "The value of pi is approximatly 3.142.\n",
      "Sjoerd     ==>       4127\n",
      "Jack       ==>       4203\n",
      "Dcoe       ==>       4300\n",
      "My hovercraft is full of eels\n",
      "My hovercraft is full of 'eels'.\n"
     ]
    }
   ],
   "source": [
    "# --Formatted string literals--\n",
    "# Formatted string literals (also called f-strings for short) let you include the value of Python\n",
    "# expressions inside a string by prefixing the string with f or F and writing expressions as {expression}.\n",
    "import math\n",
    "print(f\"The value of pi is approximatly {math.pi:.3f}.\")\n",
    "# Passing an integer after the ':' will cause that field to be a minimum number of characters wide. \n",
    "# This is useful for making columns line up.\n",
    "table = {\"Sjoerd\": 4127, \"Jack\": 4203, \"Dcoe\": 4300}\n",
    "for name, phone in table.items():\n",
    "    print(f\"{name:10} ==> {phone:10d}\")\n",
    "    \n",
    "# Other modifiers can be used to convert the value before it is formatted. '!a' applies ascii(), \n",
    "# '!s' applies str(), and '!r' applies repr():\n",
    "animals = \"eels\"\n",
    "print(f\"My hovercraft is full of {animals}\")\n",
    "print(f\"My hovercraft is full of {animals!r}.\")"
   ]
  },
  {
   "cell_type": "code",
   "execution_count": 159,
   "metadata": {},
   "outputs": [
    {
     "name": "stdout",
     "output_type": "stream",
     "text": [
      "We are the knights who say \"NI!\"\n",
      "spam and eggs\n",
      "eggs and spam\n",
      "This spam is absolutely horrible.\n",
      "The story of Bill, Manfred, and Georg.\n",
      "Jack: 4203; Sjoerd: 4127; Dcab: 4300\n",
      "Jack: 4203; Sjoerd: 4127; Dcoe: 4300\n",
      " 1   1    1\n",
      " 2   4    8\n",
      " 3   9   27\n",
      " 4  16   64\n",
      " 5  25  125\n",
      " 6  36  216\n",
      " 7  49  343\n",
      " 8  64  512\n",
      " 9  81  729\n",
      "10 100 1000\n"
     ]
    }
   ],
   "source": [
    "# The String format() Method\n",
    "print('We are the {} who say \"{}!\"'.format(\"knights\", \"NI\"))\n",
    "print(\"{0} and {1}\".format(\"spam\", \"eggs\"))\n",
    "print(\"{1} and {0}\".format(\"spam\", \"eggs\"))\n",
    "print('This {food} is {adjective}.'.format(food='spam', adjective='absolutely horrible'))\n",
    "print('The story of {0}, {1}, and {other}.'.format('Bill', 'Manfred', other='Georg'))\n",
    "table = {\"Sjoerd\": 4127, \"Jack\": 4203, \"Dcoe\": 4300}\n",
    "print('Jack: {0[Jack]:d}; Sjoerd: {0[Sjoerd]:d}; '\n",
    "      'Dcab: {0[Dcoe]:d}'.format(table))\n",
    "# another solution\n",
    "print('Jack: {Jack:d}; Sjoerd: {Sjoerd:d}; Dcoe: {Dcoe:d}'.format(**table))\n",
    "\n",
    "for x in range(1, 11):\n",
    "    print(\"{0:2d} {1:3d} {2:4d}\".format(x, x*x, x**3))"
   ]
  },
  {
   "cell_type": "code",
   "execution_count": 166,
   "metadata": {},
   "outputs": [
    {
     "name": "stdout",
     "output_type": "stream",
     "text": [
      " 1   1    1\n",
      " 2   4    8\n",
      " 3   9   27\n",
      " 4  16   64\n",
      " 5  25  125\n",
      " 6  36  216\n",
      " 7  49  343\n",
      " 8  64  512\n",
      " 9  81  729\n",
      "10 100 1000\n",
      "\n",
      "00012\n",
      "-003.14\n",
      "3.14159265359\n",
      "\n",
      "The value of x is approximately 3.142\n"
     ]
    }
   ],
   "source": [
    "# Manual string formatting\n",
    "for x in range(1, 11):\n",
    "    print(repr(x).rjust(2), repr(x*x).rjust(3), end=\" \")\n",
    "    print(repr(x**3).rjust(4))\n",
    "\"\"\"\n",
    "The str.rjust() method of string objects right-justifies a string in a field of a given width by padding \n",
    "it with spaces on the left. There are similar methods str.ljust() and str.center(). These methods do not \n",
    "write anything, they just return a new string. If the input string is too long, they don’t truncate it, \n",
    "but return it unchanged; this will mess up your column lay-out but that’s usually better than the alternative, \n",
    "which would be lying about a value. (If you really want truncation you can always add a slice operation, \n",
    "as in x.ljust(n)[:n].)\n",
    "\"\"\"\n",
    "print()\n",
    "# There is another method, str.zfill(), which pads a numeric string on the left with zeros. \n",
    "# It understands about plus and minus signs:\n",
    "print(\"12\".zfill(5))\n",
    "print(\"-3.14\".zfill(7))\n",
    "print(\"3.14159265359\".zfill(5))\n",
    "\n",
    "print()\n",
    "# Old string formatting\n",
    "import math\n",
    "print(\"The value of x is approximately %5.3f\" % math.pi)"
   ]
  },
  {
   "cell_type": "code",
   "execution_count": 171,
   "metadata": {},
   "outputs": [
    {
     "name": "stdout",
     "output_type": "stream",
     "text": [
      "True\n"
     ]
    }
   ],
   "source": [
    "# Reading and Writing Files\n",
    "f = open(\"workfile\", \"w\")\n",
    "\"\"\"\n",
    "open() returns a file object, and is most commonly used with two arguments: open(filename, mode).\n",
    "The first argument is a string containing the filename. The second argument is another string containing \n",
    "a few characters describing the way in which the file will be used. mode can be \n",
    "'r' when the file will only be read, \n",
    "'w' for only writing (an existing file with the same name will be erased), and \n",
    "'a' opens the file for appending; any data written to the file is automatically added to the end. \n",
    "'r+' opens the file for both reading and writing. The mode argument is optional; \n",
    "'r' will be assumed if it’s omitted.\n",
    "'b' appended to the mode opens the file in binary mode: now the data is read and written in the form of \n",
    "bytes objects. This mode should be used for all files that don’t contain text.\n",
    "\n",
    "It is good practice to use the with keyword when dealing with file objects. The advantage is that the file \n",
    "is properly closed after its suite finishes, even if an exception is raised at some point. Using with is \n",
    "also much shorter than writing equivalent try-finally blocks:\n",
    "\"\"\"\n",
    "with open(\"workfile\") as f:\n",
    "    read_data = f.read()\n",
    "\n",
    "# We can check that the file has been automatically closed.\n",
    "print(f.closed)"
   ]
  },
  {
   "cell_type": "code",
   "execution_count": 188,
   "metadata": {},
   "outputs": [
    {
     "name": "stdout",
     "output_type": "stream",
     "text": [
      "\n",
      "\n",
      "\n",
      "\n",
      "13\n",
      "0\n",
      "16\n",
      "5\n",
      "b'5'\n",
      "13\n",
      "b'd'\n"
     ]
    }
   ],
   "source": [
    "# Methods of file objects\n",
    "f = open(\"workfile\", \"r\")\n",
    "\"\"\"\n",
    "To read a file’s contents, call f.read(size), which reads some quantity of data and returns it as a string \n",
    "(in text mode) or bytes object (in binary mode). size is an optional numeric argument. When size is omitted \n",
    "or negative, the entire contents of the file will be read and returned; it’s your problem if the file is \n",
    "twice as large as your machine’s memory. Otherwise, at most size characters (in text mode) or size \n",
    "bytes (in binary mode) are read and returned. If the end of the file has been reached, f.read() will return \n",
    "an empty string ('').\n",
    "\"\"\"\n",
    "print(f.read())\n",
    "f.close()\n",
    "\n",
    "f = open(\"workfile\", \"r\")\n",
    "print(f.readline())\n",
    "\"\"\"\n",
    "f.readline() reads a single line from the file; a newline character (\\n) is left at the end of the string, \n",
    "and is only omitted on the last line of the file if the file doesn’t end in a newline. This makes the return \n",
    "value unambiguous; if f.readline() returns an empty string, the end of the file has been reached, while a \n",
    "blank line is represented by '\\n', a string containing only a single newline.\n",
    "\"\"\"\n",
    "print(f.readline())\n",
    "print(f.readline())\n",
    "f.close()\n",
    "\n",
    "f = open(\"workfile\", \"r\")\n",
    "\"\"\"\n",
    "For reading lines from a file, you can loop over the file object. \n",
    "This is memory efficient, fast, and leads to simple code.\n",
    "If you want to read all the lines of a file in a list you can also use list(f) or f.readlines().\n",
    "\"\"\"\n",
    "for line in f:\n",
    "    print(line, end = \"\")\n",
    "f.close()\n",
    "\n",
    "f = open(\"workfile\", \"w\")\n",
    "\"\"\"\n",
    "f.write(string) writes the contents of string to the file, returning the number of characters written.\n",
    "\"\"\"\n",
    "print(f.write(\"This is test\\n\"))\n",
    "f.close()\n",
    "\n",
    "f = open(\"workfile\", \"w\")\n",
    "\"\"\"\n",
    "Other types of objects need to be converted – either to a string (in text mode) or \n",
    "a bytes object (in binary mode) – before writing them:\n",
    "\"\"\"\n",
    "value = (\"the answer\", 42)\n",
    "s = str(value) # convert tuple to string\n",
    "#print(f.write())\n",
    "\"\"\"\n",
    "f.tell() returns an integer giving the file object’s current position in the file represented as number \n",
    "of bytes from the beginning of the file when in binary mode and an opaque number when in text mode.\n",
    "\"\"\"\n",
    "print(f.tell())\n",
    "f.close()\n",
    "\n",
    "f = open(\"workfile\", \"rb+\")\n",
    "\"\"\"\n",
    "To change the file object’s position, use f.seek(offset, whence). The position is computed from adding \n",
    "offset to a reference point; the reference point is selected by the whence argument. A whence value of 0 \n",
    "measures from the beginning of the file, 1 uses the current file position, and 2 uses the end of the file a\n",
    "s the reference point. whence can be omitted and defaults to 0, using the beginning of the file as \n",
    "the reference point.\n",
    "\"\"\"\n",
    "print(f.write(b\"0123456789abcdef\"))\n",
    "print(f.seek(5)) # Go to the 6th byte in the file\n",
    "print(f.read(1))\n",
    "print(f.seek(-3, 2)) # Go to the 3rd byte before the end\n",
    "print(f.read(1))\n",
    "f.close()"
   ]
  },
  {
   "cell_type": "code",
   "execution_count": 190,
   "metadata": {},
   "outputs": [
    {
     "name": "stdout",
     "output_type": "stream",
     "text": [
      "[1, \"simple\", \"list\"]\n"
     ]
    },
    {
     "ename": "TypeError",
     "evalue": "a bytes-like object is required, not 'str'",
     "output_type": "error",
     "traceback": [
      "\u001b[0;31m---------------------------------------------------------------------------\u001b[0m",
      "\u001b[0;31mTypeError\u001b[0m                                 Traceback (most recent call last)",
      "\u001b[0;32m<ipython-input-190-a14f20ae1d97>\u001b[0m in \u001b[0;36m<module>\u001b[0;34m\u001b[0m\n\u001b[1;32m     16\u001b[0m \u001b[0mSo\u001b[0m \u001b[0;32mif\u001b[0m \u001b[0mf\u001b[0m \u001b[0;32mis\u001b[0m \u001b[0ma\u001b[0m \u001b[0mtext\u001b[0m \u001b[0mfile\u001b[0m \u001b[0mobject\u001b[0m \u001b[0mopened\u001b[0m \u001b[0;32mfor\u001b[0m \u001b[0mwriting\u001b[0m\u001b[0;34m,\u001b[0m \u001b[0mwe\u001b[0m \u001b[0mcan\u001b[0m \u001b[0mdo\u001b[0m \u001b[0mthis\u001b[0m\u001b[0;34m:\u001b[0m\u001b[0;34m\u001b[0m\u001b[0;34m\u001b[0m\u001b[0m\n\u001b[1;32m     17\u001b[0m \"\"\"\n\u001b[0;32m---> 18\u001b[0;31m \u001b[0mjson\u001b[0m\u001b[0;34m.\u001b[0m\u001b[0mdump\u001b[0m\u001b[0;34m(\u001b[0m\u001b[0mx\u001b[0m\u001b[0;34m,\u001b[0m \u001b[0mf\u001b[0m\u001b[0;34m)\u001b[0m\u001b[0;34m\u001b[0m\u001b[0;34m\u001b[0m\u001b[0m\n\u001b[0m",
      "\u001b[0;32m~/ENTER/lib/python3.7/json/__init__.py\u001b[0m in \u001b[0;36mdump\u001b[0;34m(obj, fp, skipkeys, ensure_ascii, check_circular, allow_nan, cls, indent, separators, default, sort_keys, **kw)\u001b[0m\n\u001b[1;32m    178\u001b[0m     \u001b[0;31m# a debuggability cost\u001b[0m\u001b[0;34m\u001b[0m\u001b[0;34m\u001b[0m\u001b[0;34m\u001b[0m\u001b[0m\n\u001b[1;32m    179\u001b[0m     \u001b[0;32mfor\u001b[0m \u001b[0mchunk\u001b[0m \u001b[0;32min\u001b[0m \u001b[0miterable\u001b[0m\u001b[0;34m:\u001b[0m\u001b[0;34m\u001b[0m\u001b[0;34m\u001b[0m\u001b[0m\n\u001b[0;32m--> 180\u001b[0;31m         \u001b[0mfp\u001b[0m\u001b[0;34m.\u001b[0m\u001b[0mwrite\u001b[0m\u001b[0;34m(\u001b[0m\u001b[0mchunk\u001b[0m\u001b[0;34m)\u001b[0m\u001b[0;34m\u001b[0m\u001b[0;34m\u001b[0m\u001b[0m\n\u001b[0m\u001b[1;32m    181\u001b[0m \u001b[0;34m\u001b[0m\u001b[0m\n\u001b[1;32m    182\u001b[0m \u001b[0;34m\u001b[0m\u001b[0m\n",
      "\u001b[0;31mTypeError\u001b[0m: a bytes-like object is required, not 'str'"
     ]
    }
   ],
   "source": [
    "# Saving structured data with json\n",
    "\"\"\"\n",
    "Rather than having users constantly writing and debugging code to save complicated data types to files, \n",
    "Python allows you to use the popular data interchange format called JSON (JavaScript Object Notation). \n",
    "The standard module called json can take Python data hierarchies, and convert them to string representations; \n",
    "this process is called serializing. Reconstructing the data from the string representation is called deserializing.\n",
    "Between serializing and deserializing, the string representing the object may have been stored in a file or data, \n",
    "or sent over a network connection to some distant machine.\n",
    "\"\"\"\n",
    "# If you have an object x, you can view its JSON string representation with a simple line of code:\n",
    "import json\n",
    "print(json.dumps([1, \"simple\", \"list\"]))\n",
    "\n",
    "\"\"\"\n",
    "Another variant of the dumps() function, called dump(), simply serializes the object to a text file. \n",
    "So if f is a text file object opened for writing, we can do this:\n",
    "\"\"\"\n",
    "json.dump(x, f)\n",
    "\n",
    "\"\"\"\n",
    "To decode the object again, if f is a text file object which has been opened for reading:\n",
    "\"\"\"\n",
    "x = json.load(f)\n",
    "\n",
    "\"\"\"\n",
    "This simple serialization technique can handle lists and dictionaries, but serializing arbitrary class instances \n",
    "in JSON requires a bit of extra effort. The reference for the json module contains an explanation of this.\n",
    "\n",
    "Contrary to JSON, pickle is a protocol which allows the serialization of arbitrarily complex Python objects. \n",
    "As such, it is specific to Python and cannot be used to communicate with applications written in other languages. \n",
    "It is also insecure by default: deserializing pickle data coming from an untrusted source can execute arbitrary \n",
    "code, if the data was crafted by a skilled attacker.\n",
    "\"\"\""
   ]
  },
  {
   "cell_type": "code",
   "execution_count": 195,
   "metadata": {},
   "outputs": [
    {
     "name": "stdout",
     "output_type": "stream",
     "text": [
      "please enter a number: f\n",
      "oops. That was not a valid number! please, try again: \n",
      "please enter a number: 4\n"
     ]
    }
   ],
   "source": [
    "# Exceptions\n",
    "while True:\n",
    "    try:\n",
    "        x = int(input(\"please enter a number: \"))\n",
    "        break\n",
    "    except ValueError:\n",
    "        print(\"oops. That was not a valid number! please, try again: \")\n",
    "        "
   ]
  },
  {
   "cell_type": "code",
   "execution_count": 196,
   "metadata": {},
   "outputs": [
    {
     "name": "stdout",
     "output_type": "stream",
     "text": [
      "B\n",
      "C\n",
      "D\n"
     ]
    }
   ],
   "source": [
    "\"\"\"\n",
    "A class in an except clause is compatible with an exception if it is the same class or a base class thereof \n",
    "(but not the other way around — an except clause listing a derived class is not compatible with a base class)\n",
    "\"\"\"\n",
    "class B(Exception):\n",
    "    pass\n",
    "\n",
    "class C(B):\n",
    "    pass\n",
    "\n",
    "class D(C):\n",
    "    pass\n",
    "\n",
    "for cls in [B, C, D]:\n",
    "    try:\n",
    "        raise cls()\n",
    "    except D:\n",
    "        print(\"D\")\n",
    "    except C:\n",
    "        print(\"C\")\n",
    "    except B:\n",
    "        print(\"B\")"
   ]
  },
  {
   "cell_type": "code",
   "execution_count": 198,
   "metadata": {},
   "outputs": [
    {
     "name": "stdout",
     "output_type": "stream",
     "text": [
      "OS error: [Errno 2] No such file or directory: 'myfile.txt'\n"
     ]
    }
   ],
   "source": [
    "\"\"\"\n",
    "The last except clause may omit the exception name(s), to serve as a wildcard. Use this with extreme caution, \n",
    "since it is easy to mask a real programming error in this way! It can also be used to print an error message and \n",
    "then re-raise the exception (allowing a caller to handle the exception as well)\n",
    "\"\"\"\n",
    "import sys\n",
    "\n",
    "try:\n",
    "    open(\"myfile.txt\")\n",
    "    s = f.readline()\n",
    "    i = int(s.strip())\n",
    "except OSError as err:\n",
    "    print(\"OS error: {0}\".format(err))\n",
    "except ValueError:\n",
    "    print(\"Could not convert data to an integer.\")\n",
    "except:\n",
    "    print(\"Unexpected error:\", sys.exc_info()[0])\n",
    "    raise"
   ]
  },
  {
   "cell_type": "code",
   "execution_count": 199,
   "metadata": {},
   "outputs": [
    {
     "name": "stdout",
     "output_type": "stream",
     "text": [
      "cannot open  -f\n",
      "/home/ivan/.local/share/jupyter/runtime/kernel-c9ac8edd-fad7-4e88-82bd-922fb2ee7316.json has 12 lines\n"
     ]
    }
   ],
   "source": [
    "\"\"\"\n",
    "he try … except statement has an optional else clause, which, when present, must follow all except clauses. \n",
    "It is useful for code that must be executed if the try clause does not raise an exception.\n",
    "\"\"\"\n",
    "for arg in sys.argv[1:]:\n",
    "    try:\n",
    "        f = open(arg, \"r\")\n",
    "    except OSError:\n",
    "        print(\"cannot open \", arg)\n",
    "    else:\n",
    "        print(arg, \"has\", len(f.readlines()), \"lines\")\n",
    "        f.close"
   ]
  },
  {
   "cell_type": "code",
   "execution_count": 200,
   "metadata": {},
   "outputs": [
    {
     "name": "stdout",
     "output_type": "stream",
     "text": [
      "<class 'Exception'>\n",
      "('spam', 'eggs')\n",
      "('spam', 'eggs')\n",
      "x = spam\n",
      "y = eggs\n"
     ]
    }
   ],
   "source": [
    "\"\"\"\n",
    "The except clause may specify a variable after the exception name. The variable is bound to an exception instance \n",
    "with the arguments stored in instance.args. For convenience, the exception instance defines __str__() so the \n",
    "arguments can be printed directly without having to reference .args. One may also instantiate an exception first \n",
    "before raising it and add any attributes to it as desired.\n",
    "\"\"\"\n",
    "try:\n",
    "    raise Exception(\"spam\", \"eggs\")\n",
    "except Exception as inst:\n",
    "    print(type(inst))  # the exception instance\n",
    "    print(inst.args)   # arguments stored in .args\n",
    "    print(inst)        # __str__ allowes args to be printed directly\n",
    "                       # but may be overridden in exception subclasses\n",
    "    x, y = inst.args   # unpack args\n",
    "    print(\"x =\", x)\n",
    "    print(\"y =\", y)"
   ]
  },
  {
   "cell_type": "code",
   "execution_count": 203,
   "metadata": {},
   "outputs": [
    {
     "name": "stdout",
     "output_type": "stream",
     "text": [
      "Handling run-time error: division by zero\n"
     ]
    }
   ],
   "source": [
    "\"\"\"\n",
    "Exception handlers don’t just handle exceptions if they occur immediately in the try clause, but also if \n",
    "they occur inside functions that are called (even indirectly) in the try clause.\n",
    "\"\"\"\n",
    "\n",
    "def this_fails():\n",
    "    x = 1/0\n",
    "    \n",
    "try:\n",
    "    this_fails()\n",
    "except ZeroDivisionError as err:\n",
    "    print(\"Handling run-time error:\", err)"
   ]
  },
  {
   "cell_type": "code",
   "execution_count": null,
   "metadata": {},
   "outputs": [],
   "source": []
  }
 ],
 "metadata": {
  "kernelspec": {
   "display_name": "Python 3",
   "language": "python",
   "name": "python3"
  },
  "language_info": {
   "codemirror_mode": {
    "name": "ipython",
    "version": 3
   },
   "file_extension": ".py",
   "mimetype": "text/x-python",
   "name": "python",
   "nbconvert_exporter": "python",
   "pygments_lexer": "ipython3",
   "version": "3.7.5"
  }
 },
 "nbformat": 4,
 "nbformat_minor": 2
}
